{
  "nbformat": 4,
  "nbformat_minor": 0,
  "metadata": {
    "colab": {
      "name": "Explainable_Recommendations.ipynb",
      "provenance": [],
      "authorship_tag": "ABX9TyPwEJwdXqs5V5GFZdSo+Fe5",
      "include_colab_link": true
    },
    "kernelspec": {
      "name": "python3",
      "display_name": "Python 3"
    },
    "accelerator": "GPU"
  },
  "cells": [
    {
      "cell_type": "markdown",
      "metadata": {
        "id": "view-in-github",
        "colab_type": "text"
      },
      "source": [
        "<a href=\"https://colab.research.google.com/github/c-gohlke/Explainable-Recommendations-through-Deep-Reinforcement-Learning/blob/master/Explainable_Recommendations.ipynb\" target=\"_parent\"><img src=\"https://colab.research.google.com/assets/colab-badge.svg\" alt=\"Open In Colab\"/></a>"
      ]
    },
    {
      "cell_type": "markdown",
      "metadata": {
        "id": "vRhT-hKAc6ya",
        "colab_type": "text"
      },
      "source": [
        "# **Explainable Knowledge Graph-based Recommendation via Deep Reinforcement Learning**"
      ]
    },
    {
      "cell_type": "markdown",
      "metadata": {
        "id": "FzzStWM9dKqO",
        "colab_type": "text"
      },
      "source": [
        "A recommender system is a system that aims to make meaningful recommendations for a user. In the context of this semester project, the goal was to recommend movies for different users. The state-of-the-art recommendation systems of today generally don’t have the ability to provide meaningful reasons why a recommendation was made, which is the challenge that will be tackled here. One of the goals is to be able to explain why the recommendation was made. Recent studies show that explainable recommendation helps to improve the transparency, persuasiveness, effectiveness, trustworthiness, and satisfaction of recommendation. [1]"
      ]
    },
    {
      "cell_type": "markdown",
      "metadata": {
        "id": "OD3UUeajdhGZ",
        "colab_type": "text"
      },
      "source": [
        "In this notebook, I have applied three algorithm techniques to provide recommendations: ItemKNN [2], Bayesian Personalized Ranking Matrix Factorization [3], and EKAR (Explainable Knowledge Graph-based Recommendation via Deep Reinforcement Learning) [4]. I will ﬁrst provide an analysis of the dataset used, then show a brief overview of the mode of operation of each algorithm, as well as the results obtained."
      ]
    },
    {
      "cell_type": "markdown",
      "metadata": {
        "id": "SS9XDdEbdqwZ",
        "colab_type": "text"
      },
      "source": [
        "## **I) Dataset Analysis**"
      ]
    },
    {
      "cell_type": "markdown",
      "metadata": {
        "id": "LVvDOXH4iRYJ",
        "colab_type": "text"
      },
      "source": [
        "### Step1: Loading and preprocessing the data\n"
      ]
    },
    {
      "cell_type": "code",
      "metadata": {
        "id": "-GyEic66nMDy",
        "colab_type": "code",
        "colab": {
          "base_uri": "https://localhost:8080/",
          "height": 274
        },
        "outputId": "e1f938d3-ff79-4198-9660-34a90cbb55ec"
      },
      "source": [
        "from google.colab import drive\n",
        "import numpy as np\n",
        "import pandas as pd\n",
        "import seaborn as sns\n",
        "from sklearn.metrics.pairwise import cosine_similarity\n",
        "from scipy import spatial\n",
        "from matplotlib import pyplot as plt \n",
        "from operator import itemgetter\n",
        "import os\n",
        "import time\n",
        "import pickle\n",
        "import random\n",
        "import numpy as np\n",
        "import pandas as pd\n",
        "from matplotlib import pyplot as plt \n",
        "from sklearn.metrics import ndcg_score\n",
        "from sklearn.preprocessing import MinMaxScaler\n",
        "from sklearn.preprocessing import Normalizer\n",
        "import math\n",
        "from sklearn.metrics.pairwise import cosine_similarity\n",
        "import os\n",
        "import pickle\n",
        "\n",
        "drive.mount('/content/drive')\n",
        "!unzip '/content/drive/My Drive/projects/Gohlke_ExplainableRecommendation/files/ml-1m.zip'"
      ],
      "execution_count": 1,
      "outputs": [
        {
          "output_type": "stream",
          "text": [
            "/usr/local/lib/python3.6/dist-packages/statsmodels/tools/_testing.py:19: FutureWarning: pandas.util.testing is deprecated. Use the functions in the public API at pandas.testing instead.\n",
            "  import pandas.util.testing as tm\n"
          ],
          "name": "stderr"
        },
        {
          "output_type": "stream",
          "text": [
            "Go to this URL in a browser: https://accounts.google.com/o/oauth2/auth?client_id=947318989803-6bn6qk8qdgf4n4g3pfee6491hc0brc4i.apps.googleusercontent.com&redirect_uri=urn%3aietf%3awg%3aoauth%3a2.0%3aoob&response_type=code&scope=email%20https%3a%2f%2fwww.googleapis.com%2fauth%2fdocs.test%20https%3a%2f%2fwww.googleapis.com%2fauth%2fdrive%20https%3a%2f%2fwww.googleapis.com%2fauth%2fdrive.photos.readonly%20https%3a%2f%2fwww.googleapis.com%2fauth%2fpeopleapi.readonly\n",
            "\n",
            "Enter your authorization code:\n",
            "··········\n",
            "Mounted at /content/drive\n",
            "Archive:  /content/drive/My Drive/projects/Gohlke_ExplainableRecommendation/files/ml-1m.zip\n",
            "   creating: ml-1m/\n",
            "  inflating: ml-1m/movies.dat        \n",
            "  inflating: ml-1m/ratings.dat       \n",
            "  inflating: ml-1m/README            \n",
            "  inflating: ml-1m/users.dat         \n"
          ],
          "name": "stdout"
        }
      ]
    },
    {
      "cell_type": "markdown",
      "metadata": {
        "id": "2xGBqzWznljG",
        "colab_type": "text"
      },
      "source": [
        "There are some missing movieIds in the used dataset: there are 3706 movies and their ids range from 1 to 3952.\n",
        "\n",
        "Because we will use many matrix operations, we replace the ids such that the ids of the users range from 0 to len(users) and the ids of the movies go from 0 to len(movies).\n",
        "\n",
        "This will allow easier manipulation of the matrices, as matrix[0] can be used to represent the information related to movie with id 0."
      ]
    },
    {
      "cell_type": "code",
      "metadata": {
        "id": "XMVKAa4OiYZ6",
        "colab_type": "code",
        "colab": {}
      },
      "source": [
        "def load_data():\n",
        "    print(\"loading/preprocessing data\")\n",
        "    df = pd.read_csv(os.path.join('ml-1m', 'ratings.dat'), \n",
        "            sep=r':{2,}', \n",
        "            usecols=[0,1,2,3],\n",
        "            names=['userId', 'movieId', 'rating', 'timestamp'],\n",
        "            engine='python')\n",
        "\n",
        "    movies = sorted(set(df['movieId']))\n",
        "    movies = {c: i for (i, c) in enumerate(movies)}\n",
        "\n",
        "    users = sorted(set(df[\"userId\"]))\n",
        "    users = {c: i for (i, c) in enumerate(users)}\n",
        "\n",
        "    #replace the ids\n",
        "    df['userId'] = df['userId'].replace(users)\n",
        "    df['movieId'] = df['movieId'].replace(movies)\n",
        "\n",
        "    with open('/content/drive/My Drive/projects/Gohlke_ExplainableRecommendation/files/df.pickle', 'wb') as handle:\n",
        "          pickle.dump(df, handle, protocol=pickle.HIGHEST_PROTOCOL)\n",
        "\n",
        "    with open('/content/drive/My Drive/projects/Gohlke_ExplainableRecommendation/files/users.pickle', 'wb') as handle:\n",
        "          pickle.dump(users, handle, protocol=pickle.HIGHEST_PROTOCOL)\n",
        "\n",
        "    with open('/content/drive/My Drive/projects/Gohlke_ExplainableRecommendation/files/movies.pickle', 'wb') as handle:\n",
        "          pickle.dump(movies, handle, protocol=pickle.HIGHEST_PROTOCOL)\n",
        "\n",
        "    return df, users, movies"
      ],
      "execution_count": 3,
      "outputs": []
    },
    {
      "cell_type": "markdown",
      "metadata": {
        "id": "k776YDKNpoaE",
        "colab_type": "text"
      },
      "source": [
        "Because the preprocessing step is slow, we store the information as a loadable array, such that we can simply load the precomputed arrays in the future."
      ]
    },
    {
      "cell_type": "code",
      "metadata": {
        "id": "QMPrnd1ZppSk",
        "colab_type": "code",
        "colab": {}
      },
      "source": [
        "# df, users, movies = load_data()\n",
        "\n",
        "with open('/content/drive/My Drive/projects/Gohlke_ExplainableRecommendation/files/df.pickle', 'rb') as handle:\n",
        "      df = pickle.load(handle)\n",
        "with open('/content/drive/My Drive/projects/Gohlke_ExplainableRecommendation/files/users.pickle', 'rb') as handle:\n",
        "      users = pickle.load(handle)\n",
        "with open('/content/drive/My Drive/projects/Gohlke_ExplainableRecommendation/files/movies.pickle', 'rb') as handle:\n",
        "      movies = pickle.load(handle)"
      ],
      "execution_count": 2,
      "outputs": []
    },
    {
      "cell_type": "markdown",
      "metadata": {
        "id": "a3SYFl2rlvxx",
        "colab_type": "text"
      },
      "source": [
        "For all recommendation algorithms used, we chose to recommend 10 movies for a specific user. We therefore choose to, for each user, add 10 ratings to the testing set. The dataset was preprocessed such that each user has at least 20 ratings, so the training set will consist of at least 10 ratings for each user."
      ]
    },
    {
      "cell_type": "code",
      "metadata": {
        "id": "jsM85d65mgHs",
        "colab_type": "code",
        "colab": {}
      },
      "source": [
        "def train_test_split(df):\n",
        "    train_df = pd.DataFrame(columns=[\"userId\", \"rating\", \"movieId\", \"timestamp\"])\n",
        "    test_df = pd.DataFrame(columns=[\"userId\", \"rating\", \"movieId\", \"timestamp\"])\n",
        "\n",
        "    for i in range(0, len(users)):\n",
        "        user_movies = df[(df['userId'] == i)]\n",
        "        user_movies = user_movies.sort_values(by = \"timestamp\", ascending=True)\n",
        "        train_df = train_df.append(user_movies[:-10], ignore_index=True)\n",
        "        test_df = test_df.append(user_movies[-10:], ignore_index=True)\n",
        "\n",
        "    with open('/content/drive/My Drive/projects/Gohlke_ExplainableRecommendation/files/train_df.pickle', 'wb') as handle:\n",
        "        pickle.dump(train_df, handle, protocol=pickle.HIGHEST_PROTOCOL)\n",
        "\n",
        "    with open('/content/drive/My Drive/projects/Gohlke_ExplainableRecommendation/files/test_df.pickle', 'wb') as handle:\n",
        "        pickle.dump(test_df, handle, protocol=pickle.HIGHEST_PROTOCOL)"
      ],
      "execution_count": 5,
      "outputs": []
    },
    {
      "cell_type": "code",
      "metadata": {
        "id": "w5NDqjbv16Hf",
        "colab_type": "code",
        "colab": {}
      },
      "source": [
        "#train_test_split(df)\n",
        "\n",
        "with open('/content/drive/My Drive/projects/Gohlke_ExplainableRecommendation/files/train_df.pickle', 'rb') as handle:\n",
        "    train_df = pickle.load(handle)\n",
        "with open('/content/drive/My Drive/projects/Gohlke_ExplainableRecommendation/files/test_df.pickle', 'rb') as handle:\n",
        "    test_df = pickle.load(handle)"
      ],
      "execution_count": 3,
      "outputs": []
    },
    {
      "cell_type": "markdown",
      "metadata": {
        "id": "XD6xFdh4nTet",
        "colab_type": "text"
      },
      "source": [
        "### Step 2: Data Analysis"
      ]
    },
    {
      "cell_type": "code",
      "metadata": {
        "id": "S3BtvBRTqfpr",
        "colab_type": "code",
        "colab": {
          "base_uri": "https://localhost:8080/",
          "height": 54
        },
        "outputId": "c2604fff-735d-408f-8bac-8c773c75a43c"
      },
      "source": [
        "print(len(users))\n",
        "print(len(movies))"
      ],
      "execution_count": 31,
      "outputs": [
        {
          "output_type": "stream",
          "text": [
            "6040\n",
            "3706\n"
          ],
          "name": "stdout"
        }
      ]
    },
    {
      "cell_type": "code",
      "metadata": {
        "id": "LvSy7hoPeNG0",
        "colab_type": "code",
        "colab": {
          "base_uri": "https://localhost:8080/",
          "height": 297
        },
        "outputId": "6b4d7a75-3ebd-4b99-aa99-39a75068054f"
      },
      "source": [
        "ax = df['rating'].hist(bins = [0.5, 1.5, 2.5,3.5,4.5,5.5], ec='black', density = True)\n",
        "plt.grid(None)\n",
        "plt.xlabel(\"ratings\")\n",
        "plt.ylabel(\"density of ratings in that range\")\n",
        "plt.savefig('/content/drive/My Drive/projects/Gohlke_ExplainableRecommendation/files/ExploratoryData/rating_distribution')\n",
        "plt.show()\n",
        "plt.clf()"
      ],
      "execution_count": 44,
      "outputs": [
        {
          "output_type": "display_data",
          "data": {
            "image/png": "[encoded data removed]",
            "text/plain": [
              "<Figure size 432x288 with 1 Axes>"
            ]
          },
          "metadata": {
            "tags": [],
            "needs_background": "light"
          }
        },
        {
          "output_type": "display_data",
          "data": {
            "text/plain": [
              "<Figure size 432x288 with 0 Axes>"
            ]
          },
          "metadata": {
            "tags": []
          }
        }
      ]
    },
    {
      "cell_type": "code",
      "metadata": {
        "id": "4pJn5RdOeOva",
        "colab_type": "code",
        "colab": {
          "base_uri": "https://localhost:8080/",
          "height": 298
        },
        "outputId": "14c712c8-55fe-464d-f81d-68b316148558"
      },
      "source": [
        "counts = df['userId'].value_counts().values\n",
        "plt.hist(counts, bins = [20,50,100,150,200,250,300,350,400,450,500,1000], ec='black', density = True)\n",
        "plt.xlabel(\"amount of ratings submitted by a user\")\n",
        "plt.ylabel(\"density\")\n",
        "plt.xticks(np.concatenate((np.array([20]), np.arange(100, 1000, step=100)) ) )\n",
        "plt.savefig('/content/drive/My Drive/projects/Gohlke_ExplainableRecommendation/files/ExploratoryData/rating_per_user')\n",
        "plt.show()\n",
        "plt.clf()"
      ],
      "execution_count": 45,
      "outputs": [
        {
          "output_type": "display_data",
          "data": {
            "image/png": "[encoded data removed]",
            "text/plain": [
              "<Figure size 432x288 with 1 Axes>"
            ]
          },
          "metadata": {
            "tags": [],
            "needs_background": "light"
          }
        },
        {
          "output_type": "display_data",
          "data": {
            "text/plain": [
              "<Figure size 432x288 with 0 Axes>"
            ]
          },
          "metadata": {
            "tags": []
          }
        }
      ]
    },
    {
      "cell_type": "markdown",
      "metadata": {
        "id": "p6YzV8qofTGK",
        "colab_type": "text"
      },
      "source": [
        "##**II) ItemKNN**"
      ]
    },
    {
      "cell_type": "markdown",
      "metadata": {
        "id": "yO4lDMpkfj8v",
        "colab_type": "text"
      },
      "source": [
        "ItemKNN is a recommendation algorithm based on item similarities. There are 2 ways make a recommendation using ItemKNN: based on movie similarities (recommend movies similar to the ones the user has liked), or based on user similarities (recommend movies that similar users have liked). \n",
        "\n",
        "In this semester project’s implementation, it was chosen to make recommendations based on movie similarities. One of the advantages of this method is that movie similarities are much more static through time than user similarities, so the similarity matrix doesn’t have to be reprocessed as often. \n",
        "\n",
        "The similarity metrics used are the cosine similarity and the correlation score. We also save a matrix with the amount of corated users for each movie pair, which can be used as its own similarity score metric, or can be used to give an indication of how reliable the cosine/correlation scores are."
      ]
    },
    {
      "cell_type": "markdown",
      "metadata": {
        "id": "icA6WJln9Rf3",
        "colab_type": "text"
      },
      "source": [
        "### Step 1: Calculating similarity matrices"
      ]
    },
    {
      "cell_type": "markdown",
      "metadata": {
        "id": "uKOUT8HngMHs",
        "colab_type": "text"
      },
      "source": [
        "For each pair of movies A and B, we first find all users that rated both A and B. Those users are denoted as the corated users and we store their amount in the corated_matrix array.\n",
        "\n",
        "We then look at all of the ratings the corated users gave on ratings A and the ratings they gave to movie B. The cosine similarity and the correlation scores between the 2 arrays is used to calculate the similarity between movies A and B.\n",
        "\n",
        "\n",
        "\n",
        "The cosine similarity is defined as:\n",
        "\n",
        "$$cossim(A,B) = \\frac{A \\cdot B}{\\lVert A \\rVert \\times \\lVert B \\rVert} = \\dfrac{\\sum\\limits_{i=1}^{n} A_{i} \\times B_{i}}{\\sqrt{\\sum\\limits_{i=1}^{n} A_{i}^2} \\times \\sqrt{\\sum\\limits_{i=1}^{n} B_{i}^2}}$$\n",
        "\n",
        "and the correlation is defined as:\n",
        "\n",
        "$$corsim(A,B) = \\dfrac{\\sum\\limits_{u \\in U} (R_{u,A} - \\overline{R_{u}})(R_{u,B} - \\overline{R_{u}})}{\\sqrt{\\sum\\limits_{u \\in U} (R_{u,A} - \\overline{R_{u}})^2}\\sqrt{\\sum\\limits_{u \\in U} (R_{u,B} - \\overline{R_{u}})^2}}$$\n",
        "\n",
        "where U the set of users that rated A and B\n"
      ]
    },
    {
      "cell_type": "code",
      "metadata": {
        "id": "h-ERLbiuEJ29",
        "colab_type": "code",
        "colab": {}
      },
      "source": [
        "def generate_matrices(corated_matrix, cos_sim_matrix, correlation_matrix, start, end):\n",
        "    for i in range(start, min(len(movies), end)):\n",
        "        if(i%10 == 0 or i==len(movies)-1):\n",
        "            np.save('/content/drive/My Drive/projects/Gohlke_ExplainableRecommendation/files/New/corated_matrix.npy', corated_matrix)\n",
        "            np.save('/content/drive/My Drive/projects/Gohlke_ExplainableRecommendation/files/New/cos_sim_matrix.npy', cos_sim_matrix)\n",
        "            np.save('/content/drive/My Drive/projects/Gohlke_ExplainableRecommendation/files/New/correlation_matrix.npy', correlation_matrix)\n",
        "            print(\"saved at step\", i)\n",
        "\n",
        "        df1 = train_df[(train_df['movieId'] == i)]\n",
        "        i_mean = np.mean(df1['rating'].values)\n",
        "\n",
        "        for j in range(i+1,len(movies)):\n",
        "            df2 = train_df[(train_df['movieId'] == j)]\n",
        "            merged_inner = pd.merge(left=df1, right=df2, on='userId')\n",
        "            corated_matrix[i][j] = len(merged_inner)\n",
        "            corated_matrix[j][i] = len(merged_inner)\n",
        "\n",
        "            if(len(merged_inner)>0):\n",
        "                cos_simil = cosine_similarity([merged_inner['rating_x'].values], [merged_inner['rating_y'].values])[0]\n",
        "\n",
        "                j_mean = np.mean(df2['rating'].values)\n",
        "                i_ratings = merged_inner['rating_x'].values\n",
        "                j_ratings = merged_inner['rating_y'].values\n",
        "\n",
        "                divident = 0\n",
        "                isquaredsum = 0\n",
        "                jsquaredsum = 0\n",
        "                for index in range(len(i_ratings)):\n",
        "                    divident = divident + (i_ratings[index] - i_mean) * (j_ratings[index] - j_mean)\n",
        "                    isquaredsum = isquaredsum + (i_ratings[index] - i_mean)**2\n",
        "                    jsquaredsum = jsquaredsum + (j_ratings[index] - j_mean)**2\n",
        "\n",
        "                divisor = math.sqrt(isquaredsum) * math.sqrt(jsquaredsum)\n",
        "                cor_simil = 0\n",
        "                if divisor !=0:\n",
        "                    cor_simil = divident/divisor\n",
        "            else:\n",
        "                cos_simil = 0\n",
        "                cor_simil = 0\n",
        "    \n",
        "            cos_sim_matrix[i][j] = cos_simil\n",
        "            cos_sim_matrix[j][i] = cos_simil\n",
        "\n",
        "            correlation_matrix[i][j] = cor_simil\n",
        "            correlation_matrix[j][i] = cor_simil"
      ],
      "execution_count": 7,
      "outputs": []
    },
    {
      "cell_type": "code",
      "metadata": {
        "id": "SoQIMLPRFNWa",
        "colab_type": "code",
        "colab": {}
      },
      "source": [
        "# corated_matrix = np.zeros((len(movies), len(movies)))\n",
        "# cos_sim_matrix = np.zeros((len(movies), len(movies)))\n",
        "# correlation_matrix = np.zeros((len(movies), len(movies)))\n",
        "\n",
        "corated_matrix = np.load('/content/drive/My Drive/projects/Gohlke_ExplainableRecommendation/files/New/corated_matrix.npy')\n",
        "cos_sim_matrix = np.load('/content/drive/My Drive/projects/Gohlke_ExplainableRecommendation/files/New/cos_sim_matrix.npy')\n",
        "correlation_matrix = np.load('/content/drive/My Drive/projects/Gohlke_ExplainableRecommendation/files/New/correlation_matrix.npy')"
      ],
      "execution_count": 5,
      "outputs": []
    },
    {
      "cell_type": "code",
      "metadata": {
        "id": "h5pMBJIlrE9z",
        "colab_type": "code",
        "colab": {
          "base_uri": "https://localhost:8080/",
          "height": 54
        },
        "outputId": "03017a2b-9f5e-424a-d202-4688a648480d"
      },
      "source": [
        "generate_matrices(corated_matrix, cos_sim_matrix, correlation_matrix, 110, 3706)"
      ],
      "execution_count": null,
      "outputs": [
        {
          "output_type": "stream",
          "text": [
            "saved at step 110\n",
            "saved at step 120\n"
          ],
          "name": "stdout"
        }
      ]
    },
    {
      "cell_type": "markdown",
      "metadata": {
        "id": "JK9DMmS59d8W",
        "colab_type": "text"
      },
      "source": [
        "### Step 2: Recommending the movies"
      ]
    },
    {
      "cell_type": "markdown",
      "metadata": {
        "id": "weDmWzNE-Uwm",
        "colab_type": "text"
      },
      "source": [
        "Recommendations are made based on the movies that the user has rated and the its similar movies. There are many ways one can choose to make a recommendation. The most basic method would be to look at the best rated item of the user we want to recommend to, and recommend the 10 movies that are the most similar to that movie."
      ]
    },
    {
      "cell_type": "code",
      "metadata": {
        "id": "twfF99Or-7vR",
        "colab_type": "code",
        "colab": {}
      },
      "source": [
        "cos_sim_matrix = np.load(\"/content/drive/My Drive/projects/Gohlke_ExplainableRecommendation/files/ItemKNN/cos_sim_matrix.npy\")\n",
        "correlation_matrix = np.load(\"/content/drive/My Drive/projects/Gohlke_ExplainableRecommendation/files/ItemKNN/correlation_matrix.npy\")\n",
        "corated_matrix = np.load(\"/content/drive/My Drive/projects/Gohlke_ExplainableRecommendation/files/ExploratoryData/corated_count.npy\")\n",
        "recomAmount = 10"
      ],
      "execution_count": 6,
      "outputs": []
    },
    {
      "cell_type": "code",
      "metadata": {
        "id": "2M097r7V-zuF",
        "colab_type": "code",
        "colab": {}
      },
      "source": [
        "def basic_recommendation(simil_matrix, userId, recomAmount):\n",
        "      rated_items = train_df[(train_df['userId'] == userId)]\n",
        "      \n",
        "      sorted_movies = rated_items.sort_values(by=['rating'], ascending = False)\n",
        "      best_movieId = sorted_movies[\"movieId\"].values[0]\n",
        "\n",
        "      similarity = simil_matrix[best_movieId]\n",
        "      args = similarity.argsort()[::-1]\n",
        "\n",
        "      recom = []\n",
        "      \n",
        "      i = 0\n",
        "      while(len(recom)<10):\n",
        "        #only recommend movies that have not been rated already\n",
        "        if(args[i] not in rated_items['movieId'].values):\n",
        "            recom.append(args[i])\n",
        "        i = i+1\n",
        "\n",
        "      return recom"
      ],
      "execution_count": 53,
      "outputs": []
    },
    {
      "cell_type": "markdown",
      "metadata": {
        "id": "j9BMN6FAAq7E",
        "colab_type": "text"
      },
      "source": [
        "The performance metrics used are the Hit Ratio, which measures whether test items for a user are present in his recommendation list, and Normalized Discounted Cumulative Gain, which assesses the ranking quality of the test items."
      ]
    },
    {
      "cell_type": "code",
      "metadata": {
        "id": "K5CwbM-GAtIr",
        "colab_type": "code",
        "colab": {}
      },
      "source": [
        "def evaluateHR_NDCG(max_users = len(users), recommendation_method = basic_recommendation):\n",
        "      ndcg = []\n",
        "      hr = []\n",
        "\n",
        "      for userId in range(0, max_users):\n",
        "          top_predictions = recommendation_method(cos_sim_matrix, userId, recomAmount)\n",
        "\n",
        "          user_rated = (test_df['userId'] == userId)\n",
        "          user_movies = test_df[user_rated]['movieId'].values\n",
        "          \n",
        "          y_pred = np.asarray([[0 for i in range(recomAmount)]])\n",
        "          y_true = np.asarray([[1 for i in range(recomAmount)]])\n",
        "\n",
        "          hit_count = 0\n",
        "          for i in range(0, recomAmount):\n",
        "              if top_predictions[i] in user_movies:\n",
        "                  y_pred[0][i] = 1\n",
        "                  hit_count = hit_count+1\n",
        "          \n",
        "          ndcg.append(ndcg_score(y_pred, y_true))\n",
        "          hr.append(hit_count/len(user_movies))\n",
        "\n",
        "      return np.mean(hr), np.mean(ndcg)"
      ],
      "execution_count": 54,
      "outputs": []
    },
    {
      "cell_type": "code",
      "metadata": {
        "id": "5hkYoVB2H7jJ",
        "colab_type": "code",
        "colab": {}
      },
      "source": [
        "hr, ndcg = evaluateHR_NDCG(max_users = 1000, recommendation_method = basic_recommendation)\n",
        "print(hr)\n",
        "print(ndcg)"
      ],
      "execution_count": null,
      "outputs": []
    },
    {
      "cell_type": "markdown",
      "metadata": {
        "id": "pUVzO7ULFRo8",
        "colab_type": "text"
      },
      "source": [
        "As we can see, the recommendations are not great. The \"basic recommendation\" method isn't able to make recommendations that are meaningful enough.\n",
        "\n",
        "Let's modify our recommendation function: Instead of recommending the most similar movies of the best rated item, we will look at all the best rated items by a user, and recommend the movies that are the most similar to that those."
      ]
    },
    {
      "cell_type": "code",
      "metadata": {
        "id": "BTcDpgj8GSqG",
        "colab_type": "code",
        "colab": {}
      },
      "source": [
        "def recommend_total_simil(simil_matrix, userId, recomAmount):\n",
        "    rated_items = train_df[(train_df['userId'] == userId)]\n",
        "    best_movies = rated_items[(rated_items['rating'] == max(rated_items['rating'].values))]['movieId'].values\n",
        "\n",
        "    #1D array of similarity scores with movie\n",
        "    similarity = np.array([0.0 for i in range(len(movies))])\n",
        "\n",
        "    #only keep scores where corated > minCorated\n",
        "    for i in range(len(movies)):\n",
        "        for movie in best_movies:\n",
        "            similarity[i] = similarity[i] + cos_sim_matrix[movie][i]\n",
        "\n",
        "    args = similarity.argsort()[::-1]\n",
        "\n",
        "    recom = []\n",
        "    i = 0\n",
        "    while(len(recom)<10):\n",
        "        #only recommend movies the user hasn't rated yet\n",
        "        if(args[i] not in rated_items['movieId'].values):\n",
        "            recom.append(args[i])\n",
        "        i = i+1\n",
        "\n",
        "    return recom"
      ],
      "execution_count": 81,
      "outputs": []
    },
    {
      "cell_type": "code",
      "metadata": {
        "id": "DsixpUL8H2eM",
        "colab_type": "code",
        "colab": {
          "base_uri": "https://localhost:8080/",
          "height": 54
        },
        "outputId": "e1042a62-d5c9-47ce-fe7f-aafee07467d7"
      },
      "source": [
        "hr, ndcg = evaluateHR_NDCG(max_users = 1000, recommendation_method = recommend_total_simil)\n",
        "print(hr)\n",
        "print(ndcg)"
      ],
      "execution_count": 83,
      "outputs": [
        {
          "output_type": "stream",
          "text": [
            "0.0008\n",
            "0.0036348474704706764\n"
          ],
          "name": "stdout"
        }
      ]
    },
    {
      "cell_type": "markdown",
      "metadata": {
        "id": "wL8-r9-1SbrN",
        "colab_type": "text"
      },
      "source": [
        "As we can see from the results, the recommendations are already much more meaningful than with the initial method. However, another problem that is hindering the performance of the model is that a pair of movies (A, B) with only one corated user (meaning there is only one user that rated movie A and movie B), may have a very high or very low similarity score simply by coincidence.\n",
        "\n",
        "In the case where a user \"Bob\" gave movies (A,B) a rating of 4 and user \"Jim\" gave movies (A,B) a rating of 3, but no other user rated both movies (A,B), the similarity scores between both movies will be of 1.\n",
        "\n",
        "In the case where there is only 1 corated user for 2 movies (A,B), the cosine similarity and correlation score will be 1, no matter what rating was given.\n",
        "\n",
        "This shows that, when there is a small amount of corated users, the similarity scores can be artificially high."
      ]
    },
    {
      "cell_type": "code",
      "metadata": {
        "id": "Z4j04vuGr5mH",
        "colab_type": "code",
        "colab": {}
      },
      "source": [
        "print(np.mean(corated_matrix))\n",
        "print(np.median(corated_matrix))\n",
        "\n",
        "plt.hist(corated_matrix, bins =[0,1,2,3,4,5,6,7,8,9,10,20,30,40,50,100,4000], ec='black', density=True)\n",
        "plt.xlabel(\"amount of users that have rated both movies X and Y\")\n",
        "plt.ylabel(\"density\")\n",
        "plt.xlim(0, 10)\n",
        "plt.xticks(np.arange(0, 10, step=1))\n",
        "plt.savefig('/content/drive/My Drive/projects/Gohlke_ExplainableRecommendation/files/ExploratoryData/coratedZoomed')\n",
        "plt.show()\n",
        "plt.clf()\n",
        "\n",
        "plt.hist(corated_matrix, bins =[0,5,10,20,30,40,50,60,70,80,90,100,4000], ec='black', density=True)\n",
        "plt.xlabel(\"amount of users that have rated both movies X and Y\")\n",
        "plt.ylabel(\"density\")\n",
        "plt.xlim(0, 100)\n",
        "plt.xticks(np.arange(0, 100, step=10))\n",
        "plt.savefig('/content/drive/My Drive/projects/Gohlke_ExplainableRecommendation/files/ExploratoryData/corated')\n",
        "plt.show()\n",
        "plt.clf()"
      ],
      "execution_count": null,
      "outputs": []
    },
    {
      "cell_type": "markdown",
      "metadata": {
        "id": "Uz00HDxpryQq",
        "colab_type": "text"
      },
      "source": [
        "We see that for each movie, there is a vast amount of other movies for which there is a very small amount of corated users. Let's look, for example, at the movies that are the most similar to the movie with id 500:"
      ]
    },
    {
      "cell_type": "code",
      "metadata": {
        "id": "V0JlofYrrUdv",
        "colab_type": "code",
        "colab": {
          "base_uri": "https://localhost:8080/",
          "height": 35
        },
        "outputId": "4b13d187-0b47-41ab-96c3-ee03f4a3d8a7"
      },
      "source": [
        "movieId = 500\n",
        "scores = cos_sim_matrix[movieId]\n",
        "sorted_scores = np.sort(scores)\n",
        "print(sorted_scores[-20:])"
      ],
      "execution_count": 19,
      "outputs": [
        {
          "output_type": "stream",
          "text": [
            "[1. 1. 1. 1. 1. 1. 1. 1. 1. 1. 1. 1. 1. 1. 1. 1. 1. 1. 1. 1.]\n"
          ],
          "name": "stdout"
        }
      ]
    },
    {
      "cell_type": "markdown",
      "metadata": {
        "id": "RtR4yKea3VHj",
        "colab_type": "text"
      },
      "source": [
        "There are many movies for which the cosine similarity is 1. Let's look at the amount of corated users they have:"
      ]
    },
    {
      "cell_type": "code",
      "metadata": {
        "id": "-QYO1q233c4b",
        "colab_type": "code",
        "colab": {
          "base_uri": "https://localhost:8080/",
          "height": 381
        },
        "outputId": "ea2d1413-4a36-4535-9818-8ef6475474b9"
      },
      "source": [
        "max_args = np.argsort(scores)[-20:]\n",
        "for arg in max_args:\n",
        "    print(corated_matrix[movieId][arg])"
      ],
      "execution_count": 47,
      "outputs": [
        {
          "output_type": "stream",
          "text": [
            "1.0\n",
            "1.0\n",
            "1.0\n",
            "1.0\n",
            "1.0\n",
            "1.0\n",
            "1.0\n",
            "1.0\n",
            "1.0\n",
            "1.0\n",
            "1.0\n",
            "0.0\n",
            "1.0\n",
            "1.0\n",
            "0.0\n",
            "1.0\n",
            "1.0\n",
            "1.0\n",
            "3.0\n",
            "3.0\n"
          ],
          "name": "stdout"
        }
      ]
    },
    {
      "cell_type": "markdown",
      "metadata": {
        "id": "c0TLp5Me-Sqo",
        "colab_type": "text"
      },
      "source": [
        "Due to the sparsity of he datasets, there is a vast amount of movie pairs that have a similarity score of 1.\n",
        "\n",
        "Two movies that are very similar, for example \"Back to the Future\" and \"Back to the Future 2\", are very unlikely to have a score of 1 (only need one user to give a different score to \"Back to the future\" than he gave \"Back to the Future 2\"). The higher the amount of corated users, the harder it becomes for 2 movies to have a similarity score of 1, meaning that the current recommendation method will not be able to recommend the movies that are truly very similar.\n",
        "\n",
        "This leads to recommendations not being very meaningful, as movies with a small amount of corated users will easily obtain a high score, no matter how similar they truly are.\n",
        "\n",
        "To overcome this issue, there are 2 possible solutions:\n",
        "- we can simply add a filter, and prevent recommendation for any movie where the amount of corated users is not high enough\n",
        "\n",
        "- we can add a coefficient to the similarity score, such as sqrt(corated_amount)\n",
        "\n",
        "The idea of the coefficient is that we heavily penalize pairs with a low amount of coratings. When the amount of corated users is high, the coefficient doesn't grow as fast anymore and we put more focus on the cosine similarity.\n",
        "\n",
        "The amount of corated users provides a measure of how reliable the cosine similarity or correlation score is. On top of that, it also itself is a good metric of movie similarities: intuitively, we can assume that \"Back to the future\" and \"Back to the future 2\" will have a higher amount of corated users than \"Back to the Future\" and \"The Simpsons\" due to their similarity."
      ]
    },
    {
      "cell_type": "code",
      "metadata": {
        "id": "0qEONlYv3srb",
        "colab_type": "code",
        "colab": {}
      },
      "source": [
        "def recommend_corated_coeff(simil_matrix, userId, recomAmount):\n",
        "    rated_items = train_df[(train_df['userId'] == userId)]\n",
        "    max_items = (rated_items['rating'] == max(rated_items['rating'].values))\n",
        "    \n",
        "    best_movies = rated_items[max_items]['movieId'].values\n",
        "    bestRatedAmount = len(best_movies)\n",
        "\n",
        "    similarity = np.array([0.0 for i in range(len(movies))])\n",
        "    for i in range(len(movies)):\n",
        "        for movie in best_movies:\n",
        "            similarity[i] = math.sqrt(corated_matrix[movie][i]) * simil_matrix[movie][i]\n",
        "\n",
        "    args = similarity.argsort()[::-1]\n",
        "\n",
        "    recom = []\n",
        "    i = 0\n",
        "    while(len(recom)<10):\n",
        "        #only recommend movies the user hasn't rated yet\n",
        "        if(args[i] not in rated_items['movieId'].values):\n",
        "            recom.append(args[i])\n",
        "        i = i+1\n",
        "\n",
        "    return recom"
      ],
      "execution_count": 60,
      "outputs": []
    },
    {
      "cell_type": "code",
      "metadata": {
        "id": "bNIqHg38CbHQ",
        "colab_type": "code",
        "colab": {
          "base_uri": "https://localhost:8080/",
          "height": 54
        },
        "outputId": "be4b1f45-106f-487a-ae85-159014a65b62"
      },
      "source": [
        "hr, ndcg = evaluateHR_NDCG(max_users = 1000, recommendation_method = recommend_corated_coeff)\n",
        "print(hr)\n",
        "print(ndcg)"
      ],
      "execution_count": 63,
      "outputs": [
        {
          "output_type": "stream",
          "text": [
            "0.0499\n",
            "0.17209355750764957\n"
          ],
          "name": "stdout"
        }
      ]
    },
    {
      "cell_type": "markdown",
      "metadata": {
        "id": "NHnPSbyUvgR7",
        "colab_type": "text"
      },
      "source": [
        "With the new recommendation method, we obtain meaningful results in the range of what the research paper states can be obtained."
      ]
    },
    {
      "cell_type": "markdown",
      "metadata": {
        "id": "7H4tTLQhDION",
        "colab_type": "text"
      },
      "source": [
        "### ItemKNN Overview:"
      ]
    },
    {
      "cell_type": "markdown",
      "metadata": {
        "id": "4GqfFFYxzb7I",
        "colab_type": "text"
      },
      "source": [
        "Advantages of itemKNN:\n",
        "- Easy to give recommendations to a new user, as only 1 submitted rating is necessary.\n",
        "- Explainable (“because similar to movie A”)\n",
        "\n",
        "Disadvantages of itemKNN:\n",
        "- New movies can’t be recommended without computing its similarity with every other movie.\n",
        "- Similarity scores are very inaccurate for movies with few ratings. This means that new movies will\n",
        "have very unreliable similarity scores until many ratings are added."
      ]
    },
    {
      "cell_type": "markdown",
      "metadata": {
        "id": "ADkH2YmjDjwN",
        "colab_type": "text"
      },
      "source": [
        "## III) BPR-MF"
      ]
    }
  ]
}