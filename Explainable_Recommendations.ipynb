{
  "nbformat": 4,
  "nbformat_minor": 0,
  "metadata": {
    "colab": {
      "name": "Explainable_Recommendations.ipynb",
      "provenance": [],
      "toc_visible": true,
      "authorship_tag": "ABX9TyPbD57nR4vlW/Bk0SlibLyw",
      "include_colab_link": true
    },
    "kernelspec": {
      "name": "python3",
      "display_name": "Python 3"
    },
    "accelerator": "GPU"
  },
  "cells": [
    {
      "cell_type": "markdown",
      "metadata": {
        "id": "view-in-github",
        "colab_type": "text"
      },
      "source": [
        "<a href=\"https://colab.research.google.com/github/c-gohlke/Explainable-Recommendations-through-Deep-Reinforcement-Learning/blob/master/Explainable_Recommendations.ipynb\" target=\"_parent\"><img src=\"https://colab.research.google.com/assets/colab-badge.svg\" alt=\"Open In Colab\"/></a>"
      ]
    },
    {
      "cell_type": "markdown",
      "metadata": {
        "id": "vRhT-hKAc6ya",
        "colab_type": "text"
      },
      "source": [
        "# **Explainable Knowledge Graph-based Recommendation via Deep Reinforcement Learning**"
      ]
    },
    {
      "cell_type": "markdown",
      "metadata": {
        "id": "FzzStWM9dKqO",
        "colab_type": "text"
      },
      "source": [
        "A recommender system is a system that aims to make meaningful recommendations for a user. In the context of this semester project, the goal was to recommend movies for different users. The state-of-the-art recommendation systems of today generally don’t have the ability to provide meaningful reasons why a recommendation was made, which is the challenge that will be tackled here. One of the goals is to be able to explain why the recommendation was made. Recent studies show that explainable recommendation helps to improve the transparency, persuasiveness, effectiveness, trustworthiness, and satisfaction of recommendation. [1]"
      ]
    },
    {
      "cell_type": "markdown",
      "metadata": {
        "id": "OD3UUeajdhGZ",
        "colab_type": "text"
      },
      "source": [
        "In this notebook, I have applied three algorithm techniques to provide recommendations: ItemKNN [2], Bayesian Personalized Ranking Matrix Factorization [3], and EKAR (Explainable Knowledge Graph-based Recommendation via Deep Reinforcement Learning) [4]. I will ﬁrst provide an analysis of the dataset used, then show a brief overview of the mode of operation of each algorithm, as well as the results obtained."
      ]
    },
    {
      "cell_type": "markdown",
      "metadata": {
        "id": "SS9XDdEbdqwZ",
        "colab_type": "text"
      },
      "source": [
        "## **I) Dataset Analysis**"
      ]
    },
    {
      "cell_type": "markdown",
      "metadata": {
        "id": "LVvDOXH4iRYJ",
        "colab_type": "text"
      },
      "source": [
        "### Step1: Loading and preprocessing the data\n"
      ]
    },
    {
      "cell_type": "code",
      "metadata": {
        "id": "-GyEic66nMDy",
        "colab_type": "code",
        "colab": {
          "base_uri": "https://localhost:8080/",
          "height": 72
        },
        "outputId": "f97c559e-b902-4e51-b08b-20301adce8ee"
      },
      "source": [
        "from google.colab import drive\n",
        "import numpy as np\n",
        "import pandas as pd\n",
        "import seaborn as sns\n",
        "from sklearn.metrics.pairwise import cosine_similarity\n",
        "from scipy import spatial\n",
        "from matplotlib import pyplot as plt \n",
        "from operator import itemgetter\n",
        "import os\n",
        "import time\n",
        "import pickle\n",
        "import random\n",
        "import numpy as np\n",
        "import pandas as pd\n",
        "from matplotlib import pyplot as plt \n",
        "from sklearn.metrics import ndcg_score\n",
        "from sklearn.preprocessing import MinMaxScaler\n",
        "from sklearn.preprocessing import Normalizer\n",
        "import math\n",
        "from sklearn.metrics.pairwise import cosine_similarity\n",
        "import os\n",
        "import pickle\n",
        "import pandas as pd\n",
        "import numpy as np\n",
        "import time\n",
        "import math\n",
        "from matplotlib import pyplot as plt \n",
        "from scipy import sparse\n",
        "import pickle\n",
        "import tensorflow.compat.v1 as tf\n",
        "from sklearn.model_selection import train_test_split\n",
        "import os\n",
        "import random\n",
        "from matplotlib import pyplot as plt \n",
        "from sklearn.preprocessing import MinMaxScaler\n",
        "from sklearn.preprocessing import Normalizer\n",
        "from sklearn.metrics import ndcg_score\n",
        "\n",
        "tf.disable_v2_behavior()\n",
        "\n",
        "drive.mount('/content/drive')\n",
        "!unzip '/content/drive/My Drive/projects/Gohlke_ExplainableRecommendation/files/ml-1m.zip'"
      ],
      "execution_count": null,
      "outputs": [
        {
          "output_type": "stream",
          "text": [
            "Drive already mounted at /content/drive; to attempt to forcibly remount, call drive.mount(\"/content/drive\", force_remount=True).\n",
            "Archive:  /content/drive/My Drive/projects/Gohlke_ExplainableRecommendation/files/ml-1m.zip\n",
            "replace ml-1m/movies.dat? [y]es, [n]o, [A]ll, [N]one, [r]ename: N\n"
          ],
          "name": "stdout"
        }
      ]
    },
    {
      "cell_type": "markdown",
      "metadata": {
        "id": "2xGBqzWznljG",
        "colab_type": "text"
      },
      "source": [
        "There are some missing movieIds in the used dataset: there are 3706 movies and their ids range from 1 to 3952.\n",
        "\n",
        "Because we will use many matrix operations, we replace the ids such that the ids of the users range from 0 to len(users) and the ids of the movies go from 0 to len(movies).\n",
        "\n",
        "This will allow easier manipulation of the matrices, as matrix[0] can be used to represent the information related to movie with id 0."
      ]
    },
    {
      "cell_type": "code",
      "metadata": {
        "id": "XMVKAa4OiYZ6",
        "colab_type": "code",
        "colab": {}
      },
      "source": [
        "def load_data():\n",
        "    print(\"loading/preprocessing data\")\n",
        "    df = pd.read_csv(os.path.join('ml-1m', 'ratings.dat'), \n",
        "            sep=r':{2,}', \n",
        "            usecols=[0,1,2,3],\n",
        "            names=['userId', 'movieId', 'rating', 'timestamp'],\n",
        "            engine='python')\n",
        "\n",
        "    movies = sorted(set(df['movieId']))\n",
        "    movies = {c: i for (i, c) in enumerate(movies)}\n",
        "\n",
        "    users = sorted(set(df[\"userId\"]))\n",
        "    users = {c: i for (i, c) in enumerate(users)}\n",
        "\n",
        "    #replace the ids\n",
        "    df['userId'] = df['userId'].replace(users)\n",
        "    df['movieId'] = df['movieId'].replace(movies)\n",
        "\n",
        "    with open('/content/drive/My Drive/projects/Gohlke_ExplainableRecommendation/files/df.pickle', 'wb') as handle:\n",
        "          pickle.dump(df, handle, protocol=pickle.HIGHEST_PROTOCOL)\n",
        "\n",
        "    with open('/content/drive/My Drive/projects/Gohlke_ExplainableRecommendation/files/users.pickle', 'wb') as handle:\n",
        "          pickle.dump(users, handle, protocol=pickle.HIGHEST_PROTOCOL)\n",
        "\n",
        "    with open('/content/drive/My Drive/projects/Gohlke_ExplainableRecommendation/files/movies.pickle', 'wb') as handle:\n",
        "          pickle.dump(movies, handle, protocol=pickle.HIGHEST_PROTOCOL)\n",
        "\n",
        "    return df, users, movies"
      ],
      "execution_count": null,
      "outputs": []
    },
    {
      "cell_type": "markdown",
      "metadata": {
        "id": "k776YDKNpoaE",
        "colab_type": "text"
      },
      "source": [
        "Because the preprocessing step is slow, we store the information as a loadable array, such that we can simply load the precomputed arrays in the future."
      ]
    },
    {
      "cell_type": "code",
      "metadata": {
        "id": "QMPrnd1ZppSk",
        "colab_type": "code",
        "colab": {}
      },
      "source": [
        "# df, users, movies = load_data()\n",
        "\n",
        "with open('/content/drive/My Drive/projects/Gohlke_ExplainableRecommendation/files/df.pickle', 'rb') as handle:\n",
        "      df = pickle.load(handle)\n",
        "with open('/content/drive/My Drive/projects/Gohlke_ExplainableRecommendation/files/users.pickle', 'rb') as handle:\n",
        "      users = pickle.load(handle)\n",
        "with open('/content/drive/My Drive/projects/Gohlke_ExplainableRecommendation/files/movies.pickle', 'rb') as handle:\n",
        "      movies = pickle.load(handle)"
      ],
      "execution_count": null,
      "outputs": []
    },
    {
      "cell_type": "markdown",
      "metadata": {
        "id": "a3SYFl2rlvxx",
        "colab_type": "text"
      },
      "source": [
        "For all recommendation algorithms used, we chose to recommend 10 movies for a specific user. We therefore choose to, for each user, add 10 ratings to the testing set. The dataset was preprocessed such that each user has at least 20 ratings, so the training set will consist of at least 10 ratings for each user."
      ]
    },
    {
      "cell_type": "code",
      "metadata": {
        "id": "jsM85d65mgHs",
        "colab_type": "code",
        "colab": {}
      },
      "source": [
        "def train_test_split(df):\n",
        "    train_df = pd.DataFrame(columns=[\"userId\", \"rating\", \"movieId\", \"timestamp\"])\n",
        "    test_df = pd.DataFrame(columns=[\"userId\", \"rating\", \"movieId\", \"timestamp\"])\n",
        "\n",
        "    for i in range(0, len(users)):\n",
        "        user_movies = df[(df['userId'] == i)]\n",
        "        user_movies = user_movies.sort_values(by = \"timestamp\", ascending=True)\n",
        "        train_df = train_df.append(user_movies[:-10], ignore_index=True)\n",
        "        test_df = test_df.append(user_movies[-10:], ignore_index=True)\n",
        "\n",
        "    with open('/content/drive/My Drive/projects/Gohlke_ExplainableRecommendation/files/train_df.pickle', 'wb') as handle:\n",
        "        pickle.dump(train_df, handle, protocol=pickle.HIGHEST_PROTOCOL)\n",
        "\n",
        "    with open('/content/drive/My Drive/projects/Gohlke_ExplainableRecommendation/files/test_df.pickle', 'wb') as handle:\n",
        "        pickle.dump(test_df, handle, protocol=pickle.HIGHEST_PROTOCOL)"
      ],
      "execution_count": null,
      "outputs": []
    },
    {
      "cell_type": "code",
      "metadata": {
        "id": "w5NDqjbv16Hf",
        "colab_type": "code",
        "colab": {}
      },
      "source": [
        "#train_test_split(df)\n",
        "\n",
        "with open('/content/drive/My Drive/projects/Gohlke_ExplainableRecommendation/files/train_df.pickle', 'rb') as handle:\n",
        "    train_df = pickle.load(handle)\n",
        "with open('/content/drive/My Drive/projects/Gohlke_ExplainableRecommendation/files/test_df.pickle', 'rb') as handle:\n",
        "    test_df = pickle.load(handle)"
      ],
      "execution_count": null,
      "outputs": []
    },
    {
      "cell_type": "markdown",
      "metadata": {
        "id": "XD6xFdh4nTet",
        "colab_type": "text"
      },
      "source": [
        "### Step 2: Data Analysis"
      ]
    },
    {
      "cell_type": "code",
      "metadata": {
        "id": "S3BtvBRTqfpr",
        "colab_type": "code",
        "colab": {
          "base_uri": "https://localhost:8080/",
          "height": 54
        },
        "outputId": "c2604fff-735d-408f-8bac-8c773c75a43c"
      },
      "source": [
        "print(len(users))\n",
        "print(len(movies))"
      ],
      "execution_count": null,
      "outputs": [
        {
          "output_type": "stream",
          "text": [
            "6040\n",
            "3706\n"
          ],
          "name": "stdout"
        }
      ]
    },
    {
      "cell_type": "code",
      "metadata": {
        "id": "LvSy7hoPeNG0",
        "colab_type": "code",
        "colab": {
          "base_uri": "https://localhost:8080/",
          "height": 297
        },
        "outputId": "6b4d7a75-3ebd-4b99-aa99-39a75068054f"
      },
      "source": [
        "ax = df['rating'].hist(bins = [0.5, 1.5, 2.5,3.5,4.5,5.5], ec='black', density = True)\n",
        "plt.grid(None)\n",
        "plt.xlabel(\"ratings\")\n",
        "plt.ylabel(\"density of ratings in that range\")\n",
        "plt.savefig('/content/drive/My Drive/projects/Gohlke_ExplainableRecommendation/files/ExploratoryData/rating_distribution')\n",
        "plt.show()\n",
        "plt.clf()"
      ],
      "execution_count": null,
      "outputs": [
        {
          "output_type": "display_data",
          "data": {
            "image/png": "[encoded data removed]",
            "text/plain": [
              "<Figure size 432x288 with 1 Axes>"
            ]
          },
          "metadata": {
            "tags": [],
            "needs_background": "light"
          }
        },
        {
          "output_type": "display_data",
          "data": {
            "text/plain": [
              "<Figure size 432x288 with 0 Axes>"
            ]
          },
          "metadata": {
            "tags": []
          }
        }
      ]
    },
    {
      "cell_type": "code",
      "metadata": {
        "id": "4pJn5RdOeOva",
        "colab_type": "code",
        "colab": {
          "base_uri": "https://localhost:8080/",
          "height": 298
        },
        "outputId": "14c712c8-55fe-464d-f81d-68b316148558"
      },
      "source": [
        "counts = df['userId'].value_counts().values\n",
        "plt.hist(counts, bins = [20,50,100,150,200,250,300,350,400,450,500,1000], ec='black', density = True)\n",
        "plt.xlabel(\"amount of ratings submitted by a user\")\n",
        "plt.ylabel(\"density\")\n",
        "plt.xticks(np.concatenate((np.array([20]), np.arange(100, 1000, step=100)) ) )\n",
        "plt.savefig('/content/drive/My Drive/projects/Gohlke_ExplainableRecommendation/files/ExploratoryData/rating_per_user')\n",
        "plt.show()\n",
        "plt.clf()"
      ],
      "execution_count": null,
      "outputs": [
        {
          "output_type": "display_data",
          "data": {
            "image/png": "[encoded data removed]",
            "text/plain": [
              "<Figure size 432x288 with 1 Axes>"
            ]
          },
          "metadata": {
            "tags": [],
            "needs_background": "light"
          }
        },
        {
          "output_type": "display_data",
          "data": {
            "text/plain": [
              "<Figure size 432x288 with 0 Axes>"
            ]
          },
          "metadata": {
            "tags": []
          }
        }
      ]
    },
    {
      "cell_type": "markdown",
      "metadata": {
        "id": "p6YzV8qofTGK",
        "colab_type": "text"
      },
      "source": [
        "##**II) ItemKNN**"
      ]
    },
    {
      "cell_type": "markdown",
      "metadata": {
        "id": "yO4lDMpkfj8v",
        "colab_type": "text"
      },
      "source": [
        "ItemKNN is a recommendation algorithm based on item similarities. There are 2 ways make a recommendation using ItemKNN: based on movie similarities (recommend movies similar to the ones the user has liked), or based on user similarities (recommend movies that similar users have liked). \n",
        "\n",
        "In this semester project’s implementation, it was chosen to make recommendations based on movie similarities. One of the advantages of this method is that movie similarities are much more static through time than user similarities, so the similarity matrix doesn’t have to be reprocessed as often. \n",
        "\n",
        "The similarity metrics used are the cosine similarity and the correlation score. We also save a matrix with the amount of corated users for each movie pair, which can be used as its own similarity score metric, or can be used to give an indication of how reliable the cosine/correlation scores are."
      ]
    },
    {
      "cell_type": "markdown",
      "metadata": {
        "id": "icA6WJln9Rf3",
        "colab_type": "text"
      },
      "source": [
        "### Step 1: Calculating similarity matrices"
      ]
    },
    {
      "cell_type": "markdown",
      "metadata": {
        "id": "uKOUT8HngMHs",
        "colab_type": "text"
      },
      "source": [
        "For each pair of movies A and B, we first find all users that rated both A and B. Those users are denoted as the corated users and we store their amount in the corated_matrix array.\n",
        "\n",
        "We then look at all of the ratings the corated users gave on ratings A and the ratings they gave to movie B. The cosine similarity and the correlation scores between the 2 arrays is used to calculate the similarity between movies A and B.\n",
        "\n",
        "\n",
        "\n",
        "The cosine similarity is defined as:\n",
        "\n",
        "$$cossim(A,B) = \\frac{A \\cdot B}{\\lVert A \\rVert \\times \\lVert B \\rVert} = \\dfrac{\\sum\\limits_{i=1}^{n} A_{i} \\times B_{i}}{\\sqrt{\\sum\\limits_{i=1}^{n} A_{i}^2} \\times \\sqrt{\\sum\\limits_{i=1}^{n} B_{i}^2}}$$\n",
        "\n",
        "and the correlation is defined as:\n",
        "\n",
        "$$corsim(A,B) = \\dfrac{\\sum\\limits_{u \\in U} (R_{u,A} - \\overline{R_{u}})(R_{u,B} - \\overline{R_{u}})}{\\sqrt{\\sum\\limits_{u \\in U} (R_{u,A} - \\overline{R_{u}})^2}\\sqrt{\\sum\\limits_{u \\in U} (R_{u,B} - \\overline{R_{u}})^2}}$$\n",
        "\n",
        "where U the set of users that rated A and B\n"
      ]
    },
    {
      "cell_type": "code",
      "metadata": {
        "id": "h-ERLbiuEJ29",
        "colab_type": "code",
        "colab": {}
      },
      "source": [
        "def generate_matrices(corated_matrix, cos_sim_matrix, correlation_matrix, start, end):\n",
        "    for i in range(start, min(len(movies), end)):\n",
        "        df1 = train_df[(train_df['movieId'] == i)]\n",
        "        if(len(df1)>0):\n",
        "            i_mean = np.mean(df1['rating'].values)\n",
        "\n",
        "            for j in range(i+1,len(movies)):\n",
        "                df2 = train_df[(train_df['movieId'] == j)]\n",
        "                merged_inner = pd.merge(left=df1, right=df2, on='userId')\n",
        "                corated_matrix[i][j] = len(merged_inner)\n",
        "                corated_matrix[j][i] = len(merged_inner)\n",
        "\n",
        "                if(len(merged_inner)>0):\n",
        "                    cos_simil = cosine_similarity([merged_inner['rating_x'].values], [merged_inner['rating_y'].values])[0]\n",
        "\n",
        "                    j_mean = np.mean(df2['rating'].values)\n",
        "                    i_ratings = merged_inner['rating_x'].values\n",
        "                    j_ratings = merged_inner['rating_y'].values\n",
        "\n",
        "                    divident = 0\n",
        "                    isquaredsum = 0\n",
        "                    jsquaredsum = 0\n",
        "                    for index in range(len(i_ratings)):\n",
        "                        divident = divident + (i_ratings[index] - i_mean) * (j_ratings[index] - j_mean)\n",
        "                        isquaredsum = isquaredsum + (i_ratings[index] - i_mean)**2\n",
        "                        jsquaredsum = jsquaredsum + (j_ratings[index] - j_mean)**2\n",
        "\n",
        "                    divisor = math.sqrt(isquaredsum) * math.sqrt(jsquaredsum)\n",
        "                    cor_simil = 0\n",
        "                    if divisor !=0:\n",
        "                        cor_simil = divident/divisor\n",
        "                else:\n",
        "                    cos_simil = 0\n",
        "                    cor_simil = 0\n",
        "        \n",
        "                cos_sim_matrix[i][j] = cos_simil\n",
        "                cos_sim_matrix[j][i] = cos_simil\n",
        "\n",
        "                correlation_matrix[i][j] = cor_simil\n",
        "                correlation_matrix[j][i] = cor_simil\n",
        "\n",
        "        if(i%10 == 0 or i==len(movies)-1):\n",
        "            np.save('/content/drive/My Drive/projects/Gohlke_ExplainableRecommendation/files/New/corated_matrix.npy', corated_matrix)\n",
        "            np.save('/content/drive/My Drive/projects/Gohlke_ExplainableRecommendation/files/New/cos_sim_matrix.npy', cos_sim_matrix)\n",
        "            np.save('/content/drive/My Drive/projects/Gohlke_ExplainableRecommendation/files/New/correlation_matrix.npy', correlation_matrix)\n",
        "            print(\"saved at step\", i)"
      ],
      "execution_count": null,
      "outputs": []
    },
    {
      "cell_type": "code",
      "metadata": {
        "id": "SoQIMLPRFNWa",
        "colab_type": "code",
        "colab": {}
      },
      "source": [
        "# corated_matrix = np.zeros((len(movies), len(movies)))\n",
        "# cos_sim_matrix = np.zeros((len(movies), len(movies)))\n",
        "# correlation_matrix = np.zeros((len(movies), len(movies)))\n",
        "\n",
        "corated_matrix = np.load('/content/drive/My Drive/projects/Gohlke_ExplainableRecommendation/files/New/corated_matrix.npy')\n",
        "cos_sim_matrix = np.load('/content/drive/My Drive/projects/Gohlke_ExplainableRecommendation/files/New/cos_sim_matrix.npy')\n",
        "correlation_matrix = np.load('/content/drive/My Drive/projects/Gohlke_ExplainableRecommendation/files/New/correlation_matrix.npy')"
      ],
      "execution_count": null,
      "outputs": []
    },
    {
      "cell_type": "code",
      "metadata": {
        "id": "6MCuH86ybSKA",
        "colab_type": "code",
        "colab": {}
      },
      "source": [
        "# generate_matrices(corated_matrix, cos_sim_matrix, correlation_matrix, 0, 3706)"
      ],
      "execution_count": null,
      "outputs": []
    },
    {
      "cell_type": "markdown",
      "metadata": {
        "id": "JK9DMmS59d8W",
        "colab_type": "text"
      },
      "source": [
        "### Step 2: Recommending the movies"
      ]
    },
    {
      "cell_type": "markdown",
      "metadata": {
        "id": "weDmWzNE-Uwm",
        "colab_type": "text"
      },
      "source": [
        "Recommendations are made based on the movies that the user has rated and the its similar movies. There are many ways one can choose to make a recommendation. The most basic method would be to look at the best rated item of the user we want to recommend to, and recommend the 10 movies that are the most similar to that movie."
      ]
    },
    {
      "cell_type": "code",
      "metadata": {
        "id": "twfF99Or-7vR",
        "colab_type": "code",
        "colab": {}
      },
      "source": [
        "cos_sim_matrix = np.load(\"/content/drive/My Drive/projects/Gohlke_ExplainableRecommendation/files/ItemKNN/cos_sim_matrix.npy\")\n",
        "correlation_matrix = np.load(\"/content/drive/My Drive/projects/Gohlke_ExplainableRecommendation/files/ItemKNN/correlation_matrix.npy\")\n",
        "corated_matrix = np.load(\"/content/drive/My Drive/projects/Gohlke_ExplainableRecommendation/files/ExploratoryData/corated_count.npy\")\n",
        "recomAmount = 10"
      ],
      "execution_count": null,
      "outputs": []
    },
    {
      "cell_type": "code",
      "metadata": {
        "id": "2M097r7V-zuF",
        "colab_type": "code",
        "colab": {}
      },
      "source": [
        "def basic_recommendation(simil_matrix, userId, recomAmount):\n",
        "      rated_items = train_df[(train_df['userId'] == userId)]\n",
        "      \n",
        "      sorted_movies = rated_items.sort_values(by=['rating'], ascending = False)\n",
        "      best_movieId = sorted_movies[\"movieId\"].values[0]\n",
        "\n",
        "      similarity = simil_matrix[best_movieId]\n",
        "      args = similarity.argsort()[::-1]\n",
        "\n",
        "      recom = []\n",
        "      \n",
        "      i = 0\n",
        "      while(len(recom)<10):\n",
        "        #only recommend movies that have not been rated already\n",
        "        if(args[i] not in rated_items['movieId'].values):\n",
        "            recom.append(args[i])\n",
        "        i = i+1\n",
        "\n",
        "      return recom"
      ],
      "execution_count": null,
      "outputs": []
    },
    {
      "cell_type": "markdown",
      "metadata": {
        "id": "j9BMN6FAAq7E",
        "colab_type": "text"
      },
      "source": [
        "The performance metrics used are the Hit Ratio, which measures whether test items for a user are present in his recommendation list, and Normalized Discounted Cumulative Gain, which assesses the ranking quality of the test items."
      ]
    },
    {
      "cell_type": "code",
      "metadata": {
        "id": "K5CwbM-GAtIr",
        "colab_type": "code",
        "colab": {}
      },
      "source": [
        "def evaluateHR_NDCG(max_users = len(users), recommendation_method = basic_recommendation):\n",
        "      ndcg = []\n",
        "      hr = []\n",
        "\n",
        "      for userId in range(0, max_users):\n",
        "          top_predictions = recommendation_method(cos_sim_matrix, userId, recomAmount)\n",
        "\n",
        "          user_rated = (test_df['userId'] == userId)\n",
        "          user_movies = test_df[user_rated]['movieId'].values\n",
        "          \n",
        "          y_pred = np.asarray([[0 for i in range(recomAmount)]])\n",
        "          y_true = np.asarray([[1 for i in range(recomAmount)]])\n",
        "\n",
        "          hit_count = 0\n",
        "          for i in range(0, recomAmount):\n",
        "              if top_predictions[i] in user_movies:\n",
        "                  y_pred[0][i] = 1\n",
        "                  hit_count = hit_count+1\n",
        "          \n",
        "          ndcg.append(ndcg_score(y_pred, y_true))\n",
        "          hr.append(hit_count/len(user_movies))\n",
        "\n",
        "      return np.mean(hr), np.mean(ndcg)"
      ],
      "execution_count": null,
      "outputs": []
    },
    {
      "cell_type": "code",
      "metadata": {
        "id": "5hkYoVB2H7jJ",
        "colab_type": "code",
        "colab": {
          "base_uri": "https://localhost:8080/",
          "height": 54
        },
        "outputId": "cd29a516-d72d-482f-f9b4-29f46aa5214a"
      },
      "source": [
        "hr, ndcg = evaluateHR_NDCG(max_users = 1000, recommendation_method = basic_recommendation)\n",
        "print(hr)\n",
        "print(ndcg)"
      ],
      "execution_count": null,
      "outputs": [
        {
          "output_type": "stream",
          "text": [
            "0.0001\n",
            "0.00045435593380883455\n"
          ],
          "name": "stdout"
        }
      ]
    },
    {
      "cell_type": "markdown",
      "metadata": {
        "id": "pUVzO7ULFRo8",
        "colab_type": "text"
      },
      "source": [
        "As we can see, the recommendations are not great. The \"basic recommendation\" method isn't able to make recommendations that are meaningful enough.\n",
        "\n",
        "Let's modify our recommendation function: Instead of recommending the most similar movies of the best rated item, we will look at all the best rated items by a user, and recommend the movies that are the most similar to that those."
      ]
    },
    {
      "cell_type": "code",
      "metadata": {
        "id": "BTcDpgj8GSqG",
        "colab_type": "code",
        "colab": {}
      },
      "source": [
        "def recommend_total_simil(simil_matrix, userId, recomAmount):\n",
        "    rated_items = train_df[(train_df['userId'] == userId)]\n",
        "    best_movies = rated_items[(rated_items['rating'] == max(rated_items['rating'].values))]['movieId'].values\n",
        "\n",
        "    #1D array of similarity scores with movie\n",
        "    similarity = np.array([0.0 for i in range(len(movies))])\n",
        "\n",
        "    #only keep scores where corated > minCorated\n",
        "    for i in range(len(movies)):\n",
        "        for movie in best_movies:\n",
        "            similarity[i] = similarity[i] + cos_sim_matrix[movie][i]\n",
        "\n",
        "    args = similarity.argsort()[::-1]\n",
        "\n",
        "    recom = []\n",
        "    i = 0\n",
        "    while(len(recom)<10):\n",
        "        #only recommend movies the user hasn't rated yet\n",
        "        if(args[i] not in rated_items['movieId'].values):\n",
        "            recom.append(args[i])\n",
        "        i = i+1\n",
        "\n",
        "    return recom"
      ],
      "execution_count": null,
      "outputs": []
    },
    {
      "cell_type": "code",
      "metadata": {
        "id": "DsixpUL8H2eM",
        "colab_type": "code",
        "colab": {
          "base_uri": "https://localhost:8080/",
          "height": 54
        },
        "outputId": "8d3fa3ae-eb93-4d2b-a23d-b32e588604db"
      },
      "source": [
        "hr, ndcg = evaluateHR_NDCG(max_users = 1000, recommendation_method = recommend_total_simil)\n",
        "print(hr)\n",
        "print(ndcg)"
      ],
      "execution_count": null,
      "outputs": [
        {
          "output_type": "stream",
          "text": [
            "0.0008\n",
            "0.0036348474704706764\n"
          ],
          "name": "stdout"
        }
      ]
    },
    {
      "cell_type": "markdown",
      "metadata": {
        "id": "wL8-r9-1SbrN",
        "colab_type": "text"
      },
      "source": [
        "As we can see from the results, the recommendations are already much more meaningful than with the initial method. However, another problem that is hindering the performance of the model is that a pair of movies (A, B) with only one corated user (meaning there is only one user that rated movie A and movie B), may have a very high or very low similarity score simply by coincidence.\n",
        "\n",
        "In the case where a user \"Bob\" gave movies (A,B) a rating of 4 and user \"Jim\" gave movies (A,B) a rating of 3, but no other user rated both movies (A,B), the similarity scores between both movies will be of 1.\n",
        "\n",
        "In the case where there is only 1 corated user for 2 movies (A,B), the cosine similarity and correlation score will be 1, no matter what rating was given.\n",
        "\n",
        "This shows that, when there is a small amount of corated users, the similarity scores can be artificially high."
      ]
    },
    {
      "cell_type": "code",
      "metadata": {
        "id": "Z4j04vuGr5mH",
        "colab_type": "code",
        "colab": {
          "base_uri": "https://localhost:8080/",
          "height": 595
        },
        "outputId": "f4fdc8d0-5af5-46a6-a08d-edf761f96d0a"
      },
      "source": [
        "corated_matrix_flat = corated_matrix.reshape(-1)\n",
        "\n",
        "print(np.mean(corated_matrix_flat))\n",
        "print(np.median(corated_matrix_flat))\n",
        "\n",
        "plt.hist(corated_matrix_flat, bins =[0,1,2,3,4,5,6,7,8,9,10,20,30,40,50,100,4000], ec='black', density=True)\n",
        "plt.xlabel(\"amount of users that have rated both movies X and Y\")\n",
        "plt.ylabel(\"density\")\n",
        "plt.xlim(0, 10)\n",
        "plt.xticks(np.arange(0, 10, step=1))\n",
        "plt.savefig('/content/drive/My Drive/projects/Gohlke_ExplainableRecommendation/files/ExploratoryData/coratedZoomed')\n",
        "plt.show()\n",
        "plt.clf()\n",
        "\n",
        "plt.hist(corated_matrix_flat, bins =[0,5,10,20,30,40,50,60,70,80,90,100,4000], ec='black', density=True)\n",
        "plt.xlabel(\"amount of users that have rated both movies X and Y\")\n",
        "plt.ylabel(\"density\")\n",
        "plt.xlim(0, 100)\n",
        "plt.xticks(np.arange(0, 100, step=10))\n",
        "plt.savefig('/content/drive/My Drive/projects/Gohlke_ExplainableRecommendation/files/ExploratoryData/corated')\n",
        "plt.show()\n",
        "plt.clf()"
      ],
      "execution_count": null,
      "outputs": [
        {
          "output_type": "stream",
          "text": [
            "15.76828243984682\n",
            "2.0\n"
          ],
          "name": "stdout"
        },
        {
          "output_type": "display_data",
          "data": {
            "image/png": "[encoded data removed]",
            "text/plain": [
              "<Figure size 432x288 with 1 Axes>"
            ]
          },
          "metadata": {
            "tags": [],
            "needs_background": "light"
          }
        },
        {
          "output_type": "display_data",
          "data": {
            "image/png": "[encoded data removed]",
            "text/plain": [
              "<Figure size 432x288 with 1 Axes>"
            ]
          },
          "metadata": {
            "tags": [],
            "needs_background": "light"
          }
        },
        {
          "output_type": "display_data",
          "data": {
            "text/plain": [
              "<Figure size 432x288 with 0 Axes>"
            ]
          },
          "metadata": {
            "tags": []
          }
        }
      ]
    },
    {
      "cell_type": "markdown",
      "metadata": {
        "id": "Uz00HDxpryQq",
        "colab_type": "text"
      },
      "source": [
        "We see that for each movie, there is a vast amount of other movies for which there is a very small amount of corated users. Let's look, for example, at the movies that are the most similar to the movie with id 500:"
      ]
    },
    {
      "cell_type": "code",
      "metadata": {
        "id": "V0JlofYrrUdv",
        "colab_type": "code",
        "colab": {
          "base_uri": "https://localhost:8080/",
          "height": 35
        },
        "outputId": "1baa4bc3-fbeb-4367-b148-f4973cfcc749"
      },
      "source": [
        "movieId = 500\n",
        "scores = cos_sim_matrix[movieId]\n",
        "sorted_scores = np.sort(scores)\n",
        "print(sorted_scores[-20:])"
      ],
      "execution_count": null,
      "outputs": [
        {
          "output_type": "stream",
          "text": [
            "[1. 1. 1. 1. 1. 1. 1. 1. 1. 1. 1. 1. 1. 1. 1. 1. 1. 1. 1. 1.]\n"
          ],
          "name": "stdout"
        }
      ]
    },
    {
      "cell_type": "markdown",
      "metadata": {
        "id": "RtR4yKea3VHj",
        "colab_type": "text"
      },
      "source": [
        "There are many movies for which the cosine similarity is 1. Let's look at the amount of corated users they have:"
      ]
    },
    {
      "cell_type": "code",
      "metadata": {
        "id": "-QYO1q233c4b",
        "colab_type": "code",
        "colab": {
          "base_uri": "https://localhost:8080/",
          "height": 381
        },
        "outputId": "9de65f3e-a0a2-44d4-8379-253e805a410d"
      },
      "source": [
        "max_args = np.argsort(scores)[-20:]\n",
        "for arg in max_args:\n",
        "    print(corated_matrix[movieId][arg])"
      ],
      "execution_count": null,
      "outputs": [
        {
          "output_type": "stream",
          "text": [
            "1.0\n",
            "1.0\n",
            "1.0\n",
            "1.0\n",
            "1.0\n",
            "1.0\n",
            "1.0\n",
            "1.0\n",
            "1.0\n",
            "1.0\n",
            "1.0\n",
            "0.0\n",
            "1.0\n",
            "1.0\n",
            "0.0\n",
            "1.0\n",
            "1.0\n",
            "1.0\n",
            "3.0\n",
            "3.0\n"
          ],
          "name": "stdout"
        }
      ]
    },
    {
      "cell_type": "markdown",
      "metadata": {
        "id": "c0TLp5Me-Sqo",
        "colab_type": "text"
      },
      "source": [
        "Due to the sparsity of he datasets, there is a vast amount of movie pairs that have a similarity score of 1.\n",
        "\n",
        "Two movies that are very similar, for example \"Back to the Future\" and \"Back to the Future 2\", are very unlikely to have a score of 1 (only need one user to give a different score to \"Back to the future\" than he gave \"Back to the Future 2\"). The higher the amount of corated users, the harder it becomes for 2 movies to have a similarity score of 1, meaning that the current recommendation method will not be able to recommend the movies that are truly very similar.\n",
        "\n",
        "This leads to recommendations not being very meaningful, as movies with a small amount of corated users will easily obtain a high score, no matter how similar they truly are.\n",
        "\n",
        "To overcome this issue, there are 2 possible solutions:\n",
        "- we can simply add a filter, and prevent recommendation for any movie where the amount of corated users is not high enough\n",
        "\n",
        "- we can add a coefficient to the similarity score, such as sqrt(corated_amount)\n",
        "\n",
        "The idea of the coefficient is that we heavily penalize pairs with a low amount of coratings. When the amount of corated users is high, the coefficient doesn't grow as fast anymore and we put more focus on the cosine similarity.\n",
        "\n",
        "The amount of corated users provides a measure of how reliable the cosine similarity or correlation score is. On top of that, it also itself is a good metric of movie similarities: intuitively, we can assume that \"Back to the future\" and \"Back to the future 2\" will have a higher amount of corated users than \"Back to the Future\" and \"The Simpsons\" due to their similarity."
      ]
    },
    {
      "cell_type": "code",
      "metadata": {
        "id": "0qEONlYv3srb",
        "colab_type": "code",
        "colab": {}
      },
      "source": [
        "def recommend_corated_coeff(simil_matrix, userId, recomAmount):\n",
        "    rated_items = train_df[(train_df['userId'] == userId)]\n",
        "    max_items = (rated_items['rating'] == max(rated_items['rating'].values))\n",
        "    \n",
        "    best_movies = rated_items[max_items]['movieId'].values\n",
        "    bestRatedAmount = len(best_movies)\n",
        "\n",
        "    similarity = np.array([0.0 for i in range(len(movies))])\n",
        "    for i in range(len(movies)):\n",
        "        for movie in best_movies:\n",
        "            similarity[i] = math.sqrt(corated_matrix[movie][i]) * simil_matrix[movie][i]\n",
        "\n",
        "    args = similarity.argsort()[::-1]\n",
        "\n",
        "    recom = []\n",
        "    i = 0\n",
        "    while(len(recom)<10):\n",
        "        #only recommend movies the user hasn't rated yet\n",
        "        if(args[i] not in rated_items['movieId'].values):\n",
        "            recom.append(args[i])\n",
        "        i = i+1\n",
        "\n",
        "    return recom"
      ],
      "execution_count": null,
      "outputs": []
    },
    {
      "cell_type": "code",
      "metadata": {
        "id": "bNIqHg38CbHQ",
        "colab_type": "code",
        "colab": {
          "base_uri": "https://localhost:8080/",
          "height": 54
        },
        "outputId": "2c49c985-730f-4bf8-ce21-389128fa9b1f"
      },
      "source": [
        "hr, ndcg = evaluateHR_NDCG(max_users = 1000, recommendation_method = recommend_corated_coeff)\n",
        "print(hr)\n",
        "print(ndcg)"
      ],
      "execution_count": null,
      "outputs": [
        {
          "output_type": "stream",
          "text": [
            "0.0498\n",
            "0.17199073931079595\n"
          ],
          "name": "stdout"
        }
      ]
    },
    {
      "cell_type": "markdown",
      "metadata": {
        "id": "NHnPSbyUvgR7",
        "colab_type": "text"
      },
      "source": [
        "With the new recommendation method, we obtain meaningful results in the range of what the research paper states can be obtained."
      ]
    },
    {
      "cell_type": "markdown",
      "metadata": {
        "id": "7H4tTLQhDION",
        "colab_type": "text"
      },
      "source": [
        "### ItemKNN Overview:"
      ]
    },
    {
      "cell_type": "markdown",
      "metadata": {
        "id": "4GqfFFYxzb7I",
        "colab_type": "text"
      },
      "source": [
        "Advantages of itemKNN:\n",
        "- Easy to give recommendations to a new user, as only 1 submitted rating is necessary.\n",
        "- Explainable (“because similar to movie A”)\n",
        "\n",
        "Disadvantages of itemKNN:\n",
        "- New movies can’t be recommended without computing its similarity with every other movie.\n",
        "- Similarity scores are very inaccurate for movies with few ratings. This means that new movies will\n",
        "have very unreliable similarity scores until many ratings are added."
      ]
    },
    {
      "cell_type": "markdown",
      "metadata": {
        "id": "ADkH2YmjDjwN",
        "colab_type": "text"
      },
      "source": [
        "## III) BPR-MF"
      ]
    },
    {
      "cell_type": "markdown",
      "metadata": {
        "id": "kPOJOOM4320N",
        "colab_type": "text"
      },
      "source": [
        "The second algorithm used is Bayesian Personalized Ranking Matrix Factorization. As opposed to the ItemKNN method, this is an algorithm that uses implicit feedback, meaning it does not take into consideration which rating value was given, but only whether a rating was made for a user/movie pair.\n",
        "\n",
        "In BPR-MF, the model is trained to predict whether a user will prefer an item i over an item j. As opposed to ItemKNN, the BPR-MF model is personalized, meaning the matrix will have different values for each user."
      ]
    },
    {
      "cell_type": "markdown",
      "metadata": {
        "id": "Rol2jBHA4Y6t",
        "colab_type": "text"
      },
      "source": [
        "### Step1: Converting Data to Implicit Feedback"
      ]
    },
    {
      "cell_type": "code",
      "metadata": {
        "id": "5J1oTbr03RBZ",
        "colab_type": "code",
        "colab": {}
      },
      "source": [
        "def sigmoid(X):\n",
        "   return 1/(1+np.exp(-X))"
      ],
      "execution_count": null,
      "outputs": []
    },
    {
      "cell_type": "code",
      "metadata": {
        "id": "dDpc3L6m4tbi",
        "colab_type": "code",
        "colab": {}
      },
      "source": [
        "def create_splits():\n",
        "    S_train=sparse.csr_matrix((len(users), len(movies)), dtype=np.int8)\n",
        "    S_test=sparse.csr_matrix((len(users), len(movies)), dtype=np.int8)\n",
        "\n",
        "    for i in range(len(train_df)):\n",
        "        S_train[train_df.iloc[i][\"userId\"], train_df.iloc[i][\"movieId\"]]=1\n",
        "\n",
        "    for i in range(len(test_df)):\n",
        "        S_test[test_df.iloc[i][\"userId\"], test_df.iloc[i][\"movieId\"]]=1\n",
        "\n",
        "    with open('/content/drive/My Drive/Gohlke_ExplainableRecommendation/files/BPR/S_train.pickle', 'wb') as handle:\n",
        "        pickle.dump(S_train, handle, protocol=pickle.HIGHEST_PROTOCOL)\n",
        "\n",
        "    with open('/content/drive/My Drive/Gohlke_ExplainableRecommendation/files/BPR/S_test.pickle', 'wb') as handle:\n",
        "        pickle.dump(S_test, handle, protocol=pickle.HIGHEST_PROTOCOL)\n",
        "\n",
        "    return S_train,S_test"
      ],
      "execution_count": null,
      "outputs": []
    },
    {
      "cell_type": "code",
      "metadata": {
        "id": "FvJtm5ta4tYl",
        "colab_type": "code",
        "colab": {}
      },
      "source": [
        "S_train, S_test = create_splits()"
      ],
      "execution_count": null,
      "outputs": []
    },
    {
      "cell_type": "markdown",
      "metadata": {
        "id": "l18fU__G56k0",
        "colab_type": "text"
      },
      "source": [
        "### STEP 2: Define Hyperparameters"
      ]
    },
    {
      "cell_type": "code",
      "metadata": {
        "id": "G_bqc4g26APX",
        "colab_type": "code",
        "colab": {}
      },
      "source": [
        "#amount of features\n",
        "k = 100\n",
        "recom_amount = 10\n",
        "lr = 0.1\n",
        "batch_size = 1\n",
        "seed = 12345\n",
        "regularizer = [0.00001, 0.00001, 0.00001]\n",
        "model_name = \"final\""
      ],
      "execution_count": null,
      "outputs": []
    },
    {
      "cell_type": "markdown",
      "metadata": {
        "id": "RbSdgV3k6hzT",
        "colab_type": "text"
      },
      "source": [
        "### STEP3: Build the Graph"
      ]
    },
    {
      "cell_type": "code",
      "metadata": {
        "id": "VYiPXqvv6lcD",
        "colab_type": "code",
        "colab": {}
      },
      "source": [
        "BPR_Graph = tf.Graph()\n",
        "tf.reset_default_graph() \n",
        "with BPR_Graph.as_default(): \n",
        "    uu = tf.placeholder(tf.int32, shape=[None])\n",
        "    ii = tf.placeholder(tf.int32, shape=[None])\n",
        "    jj = tf.placeholder(tf.int32, shape=[None])\n",
        "    \n",
        "    with tf.variable_scope(\"parameters\", reuse=False):\n",
        "        W = tf.get_variable(\"user_features\",shape=(len(users),k),\n",
        "                        initializer=tf.random_normal_initializer(0, 0.1,seed=seed),trainable=True)\n",
        "        Hi = tf.get_variable(\"item_i\",shape=(len(movies),k),\n",
        "                        initializer=tf.random_normal_initializer(0, 0.1,seed=(seed+1)),trainable=True)\n",
        "        Hj = tf.get_variable(\"item_j\",shape=(len(movies),k),\n",
        "                        initializer=tf.random_normal_initializer(0, 0.1,seed=(seed-1)),trainable=True)\n",
        "        \n",
        "    embed_u = tf.nn.embedding_lookup(W, uu,name=\"W\")\n",
        "    embed_i = tf.nn.embedding_lookup(Hi, ii,name=\"Hi\")\n",
        "    embed_j = tf.nn.embedding_lookup(Hj, jj,name=\"Hj\")\n",
        "    \n",
        "    X_uij = tf.reduce_sum(tf.multiply(embed_u, (embed_i - embed_j)),1, keep_dims=True)\n",
        "\n",
        "    prob = tf.sigmoid(X_uij)\n",
        "    \n",
        "    reg_W  =  tf.reduce_mean(embed_u*embed_u)\n",
        "    reg_Hi =  tf.reduce_mean(embed_i*embed_i) \n",
        "    reg_Hj =  tf.reduce_mean(embed_j*embed_j)\n",
        "                \n",
        "    loss = tf.reduce_mean(tf.log(prob))\n",
        "    reg  = lamda_W*reg_W  +  lambda_Hi*reg_Hi + lambda_Hj*reg_Hj\n",
        "    total_loss = -loss + reg\n",
        "    \n",
        "    optim = tf.train.GradientDescentOptimizer(learning_rate=lr)\n",
        "    step = optim.minimize(total_loss)\n",
        "\n",
        "    saver = tf.train.Saver()\n",
        "    init=tf.global_variables_initializer()\n",
        "\n",
        "\n",
        "BPR_session = tf.Session(graph=BPR_Graph)\n",
        "BPR_session.run(init)"
      ],
      "execution_count": null,
      "outputs": []
    },
    {
      "cell_type": "markdown",
      "metadata": {
        "id": "o78OxBNQ8L2z",
        "colab_type": "text"
      },
      "source": [
        "We need to define a sampler that creates a batch"
      ]
    },
    {
      "cell_type": "code",
      "metadata": {
        "id": "qsA1_OG08Kq_",
        "colab_type": "code",
        "colab": {}
      },
      "source": [
        "def sampler(self,S,batch_size=1):\n",
        "        counter=batch_size\n",
        "        u,i,j = [],[],[]\n",
        "      \n",
        "        while(counter!=0):\n",
        "          user=np.random.randint(0,S.shape[0])\n",
        "          ones=list(S[user,:].nonzero()[1])\n",
        "      \n",
        "          if(len(ones)!=0):\n",
        "            u.append(user)\n",
        "            i.append(np.asscalar(np.random.choice(ones,1)))\n",
        "         \n",
        "            while(True):\n",
        "                val=np.random.randint(0,len(movies))\n",
        "                if val not in ones:\n",
        "                    break\n",
        "            j.append(val)  \n",
        "            counter=counter-1\n",
        "          \n",
        "        return u,i,j"
      ],
      "execution_count": null,
      "outputs": []
    },
    {
      "cell_type": "code",
      "metadata": {
        "id": "qZZljG8D8peu",
        "colab_type": "code",
        "colab": {}
      },
      "source": [
        "def train(epochs):\n",
        "    epochs_hist = []\n",
        "    train_loss_hist = []\n",
        "    eval_loss_hist = []\n",
        "    hr_hist = [] \n",
        "    for i in range(epochs):\n",
        "        epoch_loss = 0\n",
        "        for j in range(int(S_train.shape[0]/batch_size)):\n",
        "        a,b,c = sampler(S_train,batch_size)\n",
        "        feed_dict = {uu:a , ii:b , jj:c}\n",
        "\n",
        "        loss, _ = BPR_session.run((total_loss, step),feed_dict=feed_dict)\n",
        "        epoch_loss = epoch_loss + loss\n",
        "        \n",
        "        a,b,c = sampler(S_test, S_test.shape[0])\n",
        "        feed_dict = {uu:a , ii:b, jj:c }\n",
        "        eval_loss = BPR_session.run((total_loss),feed_dict=feed_dict)\n",
        "        hr,ndcg = evaluateHR_NDCG(100)\n",
        "        train_loss = epoch_loss/int(S_train.shape[0]/batch_size)\n",
        "\n",
        "        epochs_hist.append(i)\n",
        "        train_loss_hist.append(train_loss)\n",
        "        eval_loss_hist.append(eval_loss)\n",
        "        hr_hist.append(hr)\n",
        "\n",
        "        print(\"Epoch:{} Train_Loss:{} Test_Loss:{} NDCG: {}, HR:{}, AR:{}\".format(i,train_loss, eval_loss, ndcg, hr, ar))\n",
        "    \n",
        "    return epochs_hist, train_loss_hist, eval_loss_hist, hr_hist"
      ],
      "execution_count": null,
      "outputs": []
    },
    {
      "cell_type": "code",
      "metadata": {
        "id": "GybhIBFIF33T",
        "colab_type": "code",
        "colab": {}
      },
      "source": [
        "def evaluateHR_NDCG(max_users = 6040):\n",
        "    ndcg = []\n",
        "    hr = []\n",
        "\n",
        "    for userId in range(0, min(max_users, len(users))):\n",
        "        hit_count = 0\n",
        "        top_predictions = recommend(userId, recom_amount)\n",
        "        user_movies = S_test[user].nonzero()[1]\n",
        "\n",
        "        y_pred = np.asarray([[0 for i in range(recom_amount)]])\n",
        "        y_true = np.asarray([[1 for i in range(recom_amount)]])\n",
        "            \n",
        "        for i in range(recom_amount):\n",
        "            if top_predictions[i] in user_movies:\n",
        "                y_pred[0][i] = 1\n",
        "                hit_count = hit_count+1\n",
        "\n",
        "        hr.append(hit_count/len(user_movies))\n",
        "        ndcg.append(ndcg_score(y_pred, y_true))\n",
        "        \n",
        "    return np.mean(hr),  np.mean(ndcg)"
      ],
      "execution_count": null,
      "outputs": []
    },
    {
      "cell_type": "code",
      "metadata": {
        "id": "SHZCj5DgF6Ja",
        "colab_type": "code",
        "colab": {}
      },
      "source": [
        "def recommend(userId, recom_amount):\n",
        "    #maximizing dot product of U and item i means maximizing probability that user U prefers i over j\n",
        "    userVals = W[userId, :].eval(session = BPR_session)\n",
        "    iVals = Hi.eval(session = BPR_session).T\n",
        "\n",
        "    scores = np.dot(userVals, iVals)\n",
        "    args = scores.argsort()[::-1]\n",
        "\n",
        "    recom = []\n",
        "    \n",
        "    i = 0\n",
        "    while(len(recom) < recom_amount):\n",
        "        if(S_train[u, args[i]] == 0): #if user didn't already rate the item\n",
        "            recom.append(args[i])\n",
        "        i = i+1\n",
        "    return recom"
      ],
      "execution_count": null,
      "outputs": []
    },
    {
      "cell_type": "code",
      "metadata": {
        "id": "WIVwSkCyBZzJ",
        "colab_type": "code",
        "colab": {}
      },
      "source": [
        "# saver = tf.train.import_meta_graph(\"/content/drive/My Drive/Gohlke_ExplainableRecommendation/files/BPR/models/{}/.meta\".format(model_name))\n",
        "# saver.restore(self.session, \"/content/drive/My Drive/Gohlke_ExplainableRecommendation/files/BPR/models/{}/\".format(model_name))\n",
        "epochs = 10\n",
        "epochs_hist, train_loss_hist, eval_loss_hist, hr_hist = train(epochs)\n",
        "saver.save(BPR_session, \"/content/drive/My Drive/Gohlke_ExplainableRecommendation/files/BPR/models/{}/\".format(model_name))"
      ],
      "execution_count": null,
      "outputs": []
    },
    {
      "cell_type": "code",
      "metadata": {
        "id": "kjPZYRSmBsJS",
        "colab_type": "code",
        "colab": {}
      },
      "source": [
        "plt.plot(epochs_hist, train_loss_hist, 'r--')\n",
        "plt.plot(epochs_hist, eval_loss_hist, 'b-')\n",
        "plt.legend(['Training Loss', 'Test Loss'])\n",
        "plt.xlabel('Epoch')\n",
        "plt.ylabel('Loss')\n",
        "plt.savefig('/content/drive/My Drive/Gohlke_ExplainableRecommendation/files/BPR/plots/lr{}-k{}-reg{}-batchS{}-loss_history.png'.format(lr, k,lamda_W,batch_size))\n",
        "plt.show()\n",
        "plt.clf()\n",
        "\n",
        "plt.plot(epochs_hist, hr_hist, 'g--')\n",
        "plt.xlabel('Epoch')\n",
        "plt.ylabel('Hit Ration on Testing Set')\n",
        "plt.savefig('/content/drive/My Drive/Gohlke_ExplainableRecommendation/files/BPR/plots/lr{}-k{}-reg{}-batchS{}-hr_history.png'.format(lr, k,lamda_W,batch_size))\n",
        "plt.show()\n",
        "plt.clf()"
      ],
      "execution_count": null,
      "outputs": []
    },
    {
      "cell_type": "markdown",
      "metadata": {
        "id": "-cEMn1EdDMeY",
        "colab_type": "text"
      },
      "source": [
        "###STEP 4: Evaluate the results"
      ]
    },
    {
      "cell_type": "code",
      "metadata": {
        "id": "aN6VLVNt3fGx",
        "colab_type": "code",
        "colab": {}
      },
      "source": [
        "hr, ndcg = evaluateHR_NDCG(10)"
      ],
      "execution_count": null,
      "outputs": []
    },
    {
      "cell_type": "markdown",
      "metadata": {
        "id": "1sMaylil-jCT",
        "colab_type": "text"
      },
      "source": [
        "Before evaluation, we import the best working model"
      ]
    },
    {
      "cell_type": "code",
      "metadata": {
        "id": "PwRptvXt-tiT",
        "colab_type": "code",
        "colab": {}
      },
      "source": [
        "tf.reset_default_graph()\n",
        "BPR_session.close()"
      ],
      "execution_count": null,
      "outputs": []
    },
    {
      "cell_type": "markdown",
      "metadata": {
        "id": "jG2srGcKGhVQ",
        "colab_type": "text"
      },
      "source": [
        "### BPR Overview"
      ]
    },
    {
      "cell_type": "markdown",
      "metadata": {
        "id": "jixlW5KmGgfe",
        "colab_type": "text"
      },
      "source": [
        "Advantages of BPR-MF:\n",
        "- Not very dependent on parameters\n",
        "- Converges quickly\n",
        "\n",
        "Disadvantages of BPR-MF:\n",
        "- To recommend a movie to a new user, the model has to be retrained.\n",
        "- The results are not explainable, as the output doesn’t hold any real meaning other than a probability score."
      ]
    },
    {
      "cell_type": "markdown",
      "metadata": {
        "id": "jSwHKouXG1iA",
        "colab_type": "text"
      },
      "source": [
        "##**IV) EKAR**"
      ]
    },
    {
      "cell_type": "markdown",
      "metadata": {
        "id": "EnNnwudVHOsz",
        "colab_type": "text"
      },
      "source": [
        "Ekar is a Knowledge Graph based recommender system that aims to provide meaningful explainablerecommendations to a user.\n",
        "\n",
        "The Knowledge Graph is created by iterating over the data frames and adding each <item, relation, item>triplets.\n",
        "\n",
        "In the context of recommendations using the MovieLens dataset, the following items have been chosen as nodes of the Knowledge-Graph:\n",
        "- User\n",
        "- Actor\n",
        "- Director\n",
        "- Producer\n",
        "- Executive Producer\n",
        "- Movie\n",
        "- Genre\n",
        "\n",
        "Each pair of items has a relation linking them if applicable, e.g.“user5” “has interacted with” “movie17”.\n",
        "\n",
        "To make recommendations, we place an agent in the Knowledge graph and allow the agent to move from his current item to any item linked to by an outgoing edge. If the agent believes he is currently on an item that yields a good reward, he can choose to stay on that item by following the \"Stop\" relation which links every item in the Knowledge Graph to itself.\n",
        "\n",
        "The prediction model used in Ekar is built as follows:  First, the input goes through an LSTM layer that converts the input to a low-dimensional representation of the current state. The embedded state is then passed to a Dense layer with a ReLU activation function, and then to a dense output layer which predicts the reward for the state.\n",
        "\n",
        "The model is compiled using an Adam optimizer and a Mean Squared Error loss function. During training, the agent starts from a random user item and traverses the Knowledge Graph.\n",
        "\n",
        "At each step,the actions taken are chosen from a set of possible actions, defined by the outgoing edges of the current item, and the probability of taking action a’ from state st is calculated from the following function:\n",
        "\n",
        "$$    \\pi(a'|s_{t}) = \\frac{exp(a'^T y_{t})}{\\sum\\limits_{a \\in A_{t}} exp({a'}^T y_{t})}\n",
        "$$\n",
        "\n",
        "where At is the set of possible actions actions that can be taken from state st, and a′T*yt is the predicted reward foraction a′T.\n",
        "\n",
        "Random action dropout is used to encourage the agent to explore new paths, and not only resort to known high-reward paths.\n",
        "\n",
        "After 3 steps from the agent, the reward obtained is given by:\n",
        "- 1 if the target item is a movie which has been interacted with by the user\n",
        "- sigmoid(similarity(user, targetItem) if the target item is a movie which has not been interacted with by the user\n",
        "- -1 if the target item is not a movie\n",
        "\n",
        "To compute the similarity score between the user and the target item, we use the BPR model’s prediction,where the score is an indication of how likely it is for the user to prefer the target movie over another movie."
      ]
    },
    {
      "cell_type": "code",
      "metadata": {
        "id": "hB8qRnj9J8ul",
        "colab_type": "code",
        "colab": {}
      },
      "source": [
        "def load_ratings():\n",
        "  ratings_df = pd.read_csv(os.path.join('ml-1m', 'ratings.dat'), \n",
        "    sep=r':{2,}', \n",
        "    usecols=[0,1,2,3], \n",
        "    names=['userId', 'movieId', 'rating', 'timestamp'],\n",
        "    engine='python')\n",
        "  \n",
        "  return ratings_df\n",
        "\n",
        "def preprocess_ratings(ratings_df):\n",
        "  moviesS = sorted(set(ratings_df[\"movieId\"]))\n",
        "  ratings_df['movieId'] = ratings_df['movieId'].astype(str)\n",
        "  Replacemovies = {str(c): \"movie\"+str(i) for (i, c) in enumerate(moviesS)}\n",
        "  ratings_df[\"movieId\"] = ratings_df['movieId'].replace(Replacemovies)\n",
        "  #dictionnary to convert back to original\n",
        "  movies = {\"movie\"+str(i): c for (i, c) in enumerate(moviesS)}\n",
        "\n",
        "  usersS = sorted(set(ratings_df[\"userId\"]))\n",
        "  ratings_df['userId'] = ratings_df['userId'].astype(str)\n",
        "  Replaceusers = {str(c): \"user\"+str(i) for (i, c) in enumerate(usersS)}\n",
        "  ratings_df[\"userId\"] = ratings_df['userId'].replace(Replaceusers)\n",
        "  #dictionnary to convert back to original\n",
        "  users = {\"user\"+str(i): c for (i, c) in enumerate(usersS)}\n",
        "\n",
        "  return ratings_df, movies, users, Replacemovies\n",
        "\n",
        "def load_actors(movies):\n",
        "  credits_df = pd.read_csv(\"/content/drive/My Drive/Gohlke_ExplainableRecommendation/files/credits.csv\")\n",
        "  credits_df = credits_df[(credits_df[\"id\"].isin(list(movies.values())))]\n",
        "\n",
        "  actors_df = pd.DataFrame(columns=['movieId', \"actorId\"])\n",
        "  directors_df = pd.DataFrame(columns=['movieId', \"directorId\"])\n",
        "  producers_df = pd.DataFrame(columns=['movieId', \"producerId\"])\n",
        "  exec_producers_df = pd.DataFrame(columns=['movieId', \"execProducerId\"])\n",
        "\n",
        "\n",
        "  for i in range(len(credits_df)):\n",
        "    cast_list = ast.literal_eval(credits_df.iloc[i][\"cast\"])\n",
        "    for obj in cast_list:\n",
        "      actors_df = actors_df.append({\"actorId\": obj[\"name\"], \"movieId\": str(credits_df.iloc[i][\"id\"])}, ignore_index = True)\n",
        "\n",
        "    crew_list = ast.literal_eval(credits_df.iloc[i][\"crew\"])\n",
        "    for obj in crew_list:\n",
        "      if(obj[\"job\"] == \"Director\"):\n",
        "        directors_df = directors_df.append({\"directorId\": obj[\"name\"], \"movieId\": str(credits_df.iloc[i][\"id\"])}, ignore_index = True)\n",
        "      if(obj[\"job\"] == \"Producer\"):\n",
        "        producers_df = producers_df.append({\"producerId\": obj[\"name\"], \"movieId\": str(credits_df.iloc[i][\"id\"])}, ignore_index = True)\n",
        "      if(obj[\"job\"] == \"Executive Producer\"):\n",
        "        exec_producers_df = exec_producers_df.append({\"execProducerId\": obj[\"name\"], \"movieId\": str(credits_df.iloc[i][\"id\"])}, ignore_index = True)    \n",
        "\n",
        "  return actors_df, directors_df, producers_df, exec_producers_df\n",
        "\n",
        "def preprocess_crew(actors_df, directors_df, producers_df, exec_producers_df, Replacemovies):\n",
        "  actorsS = sorted(set(actors_df[\"actorId\"]))\n",
        "  Replaceactors = {str(c): \"actor\"+str(i) for (i, c) in enumerate(actorsS)}\n",
        "  actors_df['actorId'] = actors_df['actorId'].replace(Replaceactors)\n",
        "  actors_df[\"movieId\"] = actors_df['movieId'].replace(Replacemovies)\n",
        "  #dictionnary to convert back to original\n",
        "  actors = {\"actor\"+str(i): c for (i, c) in enumerate(actorsS)}\n",
        "\n",
        "  directorsS = sorted(set(directors_df[\"directorId\"]))\n",
        "  Replacedirectors = {str(c): \"director\"+str(i) for (i, c) in enumerate(directorsS)}\n",
        "  directors_df['directorId'] = directors_df['directorId'].replace(Replacedirectors)\n",
        "  directors_df[\"movieId\"] = directors_df['movieId'].replace(Replacemovies)\n",
        "  directors = {\"director\"+str(i): c for (i, c) in enumerate(directorsS)}\n",
        "\n",
        "\n",
        "  producersS = sorted(set(producers_df[\"producerId\"]))\n",
        "  Replaceproducers = {str(c): \"producer\"+str(i) for (i, c) in enumerate(producersS)}\n",
        "  producers_df['producerId'] = producers_df['producerId'].replace(Replaceproducers)\n",
        "  producers_df[\"movieId\"] = producers_df['movieId'].replace(Replacemovies)\n",
        "  producers = {\"producer\"+str(i): c for (i, c) in enumerate(producersS)}\n",
        "\n",
        "\n",
        "  exec_producersS = sorted(set(exec_producers_df[\"execProducerId\"]))\n",
        "  Replaceexec_producers = {str(c): \"execProducer\"+str(i) for (i, c) in enumerate(exec_producersS)}\n",
        "  exec_producers_df['execProducerId'] = exec_producers_df['execProducerId'].replace(Replaceexec_producers)\n",
        "  exec_producers_df[\"movieId\"] = exec_producers_df['movieId'].replace(Replacemovies)\n",
        "  exec_producers = {\"execProducer\"+str(i): c for (i, c) in enumerate(exec_producersS)}\n",
        "\n",
        "  return actors_df, directors_df, producers_df, exec_producers_df, actors, directors, producers, exec_producers\n",
        "\n",
        "def load_genres(Replacemovies):\n",
        "    genres_original_df = pd.read_csv(os.path.join('ml-1m', 'movies.dat'), \n",
        "    sep=r':{2,}', \n",
        "    usecols=[0,1,2], \n",
        "    names=['movieId', 'name', 'genres'],\n",
        "    engine='python')\n",
        "\n",
        "    genreList = ['Animation', \"Children's\", 'Comedy', 'Adventure', 'Fantasy', 'Romance',\n",
        "                 'Drama', 'Action', 'Crime', 'Thriller', 'Horror', 'Sci-Fi', 'Documentary',\n",
        "                 'War', 'Musical', 'Mystery', 'Film-Noir', 'Western']\n",
        "\n",
        "    genres_df = pd.DataFrame(columns=['movieId', \"genres\"])\n",
        "\n",
        "    for i in range(len(genres_original_df)):\n",
        "      if str(genres_original_df.iloc[i][\"movieId\"]) in Replacemovies:\n",
        "          genres = genres_original_df.iloc[i]['genres']\n",
        "          genres = genres.split(\"|\")\n",
        "          for g in genres:\n",
        "              genres_df = genres_df.append({\"genres\": g, \"movieId\": Replacemovies[str(genres_original_df.iloc[i][\"movieId\"])]}, ignore_index = True)\n",
        "              \n",
        "    return genres_df, genreList"
      ],
      "execution_count": null,
      "outputs": []
    },
    {
      "cell_type": "code",
      "metadata": {
        "id": "8DuEUPFIjjKu",
        "colab_type": "code",
        "colab": {}
      },
      "source": [
        "ratings_df = load_ratings();\n",
        "ratings_df, movies, users, Replacemovies = preprocess_ratings(ratings_df);\n",
        "genres_df, genres = load_genres(Replacemovies)\n",
        "actors_df, directors_df, producers_df, exec_producers_df = load_actors(movies);\n",
        "actors_df, directors_df, producers_df, exec_producers_df, actors, directors, producers, exec_producers = preprocess_crew(actors_df, directors_df, producers_df, exec_producers_df, Replacemovies);"
      ],
      "execution_count": null,
      "outputs": []
    },
    {
      "cell_type": "code",
      "metadata": {
        "id": "cvmunRnHjlh3",
        "colab_type": "code",
        "colab": {}
      },
      "source": [
        "def get_items(ratings_df, actors_df, directors_df, producers_df, exec_producers_df, genres):\n",
        "  items = []\n",
        "  userIds = ratings_df.userId.unique()\n",
        "  for id in userIds:\n",
        "    items.append(id)\n",
        "\n",
        "  movieIds = ratings_df.movieId.unique()\n",
        "  for id in movieIds:\n",
        "    items.append(id)\n",
        "\n",
        "  actorIds = actors_df.actorId.unique()\n",
        "  for id in actorIds:\n",
        "    items.append(id)\n",
        "\n",
        "  directorIds = directors_df.directorId.unique()\n",
        "  for id in directorIds:\n",
        "    items.append(id)\n",
        "\n",
        "  producerIds = producers_df.producerId.unique()\n",
        "  for id in producerIds:\n",
        "    items.append(id)\n",
        "\n",
        "  exec_producerIds = exec_producers_df.execProducerId.unique()\n",
        "  for id in exec_producerIds:\n",
        "    items.append(id)\n",
        "\n",
        "  for genre in genres:\n",
        "    items.append(genre)\n",
        "\n",
        "  item_encoder = OneHotEncoder(sparse = False)\n",
        "  item_encoder.fit(np.array(items).reshape(-1,1))\n",
        "  return item_encoder, items\n",
        "\n",
        "def get_relations():\n",
        "  relations = [\"Interact\", \"With actor\", \"Acted in\", \"Stop\", \"mock\",\n",
        "               \"Directed by\", \"Has directed\", \"Produced by\", \"Has Produced\",\n",
        "               \"With Executive Producer\", \"Was Executive Producer For\",\n",
        "               \"is Genre\", \"is Genre of Movie\", \"Interacted by\"]\n",
        "  relation_encoder = OneHotEncoder(sparse = False)\n",
        "  relation_encoder.fit(np.array(relations).reshape(-1,1))\n",
        "\n",
        "  return relation_encoder, relations\n",
        "\n",
        "item_encoder, items = get_items(ratings_df, actors_df, directors_df, producers_df, exec_producers_df, genres)\n",
        "relation_encoder, relations = get_relations()"
      ],
      "execution_count": null,
      "outputs": []
    },
    {
      "cell_type": "code",
      "metadata": {
        "id": "ZuS88Yiujpji",
        "colab_type": "code",
        "colab": {}
      },
      "source": [
        "def create_knowledge_graph():\n",
        "    #open knowledge graph Gk = (Ek, Rk), where Ek is the entity set and Rk is the relation set. Each triplet\n",
        "    #< eh, r, et >∈ Gk indicates there exists a relation r ∈ Rk from head entity eh ∈ Ek to tail entity et ∈ Ek\n",
        "    KG = defaultdict(list)\n",
        "\n",
        "    for i in range(len(train_df)):\n",
        "        KG[train_df.iloc[i]['userId']].append({\"Interact\": train_df.iloc[i]['movieId']})\n",
        "        KG[train_df.iloc[i]['movieId']].append({\"Interacted by\": train_df.iloc[i]['userId']})\n",
        "\n",
        "    for i in range(len(actors_df)):\n",
        "      #add path from the movie to the actor that played in the movie\n",
        "      KG[actors_df.iloc[i][\"movieId\"]].append({\"With actor\": actors_df.iloc[i][\"actorId\"]})\n",
        "      #add path from the actor to the movies that he played in\n",
        "      KG[actors_df.iloc[i][\"actorId\"]].append({\"Acted in\": actors_df.iloc[i][\"movieId\"]})\n",
        "\n",
        "    \n",
        "    for i in range(len(directors_df)):\n",
        "      #add path from the movie to the actor that played in the movie\n",
        "      KG[directors_df.iloc[i][\"movieId\"]].append({\"Directed by\": directors_df.iloc[i][\"directorId\"]})\n",
        "      #add path from the actor to the movies that he played in\n",
        "      KG[directors_df.iloc[i][\"directorId\"]].append({\"Has directed\": directors_df.iloc[i][\"movieId\"]})\n",
        "\n",
        "    \n",
        "    for i in range(len(producers_df)):\n",
        "      #add path from the movie to the actor that played in the movie\n",
        "      KG[producers_df.iloc[i][\"movieId\"]].append({\"Produced by\": producers_df.iloc[i][\"producerId\"]})\n",
        "      #add path from the actor to the movies that he played in\n",
        "      KG[producers_df.iloc[i][\"producerId\"]].append({\"Has Produced\": producers_df.iloc[i][\"movieId\"]})\n",
        "\n",
        "    for i in range(len(exec_producers_df)):\n",
        "      #add path from the movie to the actor that played in the movie\n",
        "      KG[exec_producers_df.iloc[i][\"movieId\"]].append({\"With Executive Producer\": exec_producers_df.iloc[i][\"execProducerId\"]})\n",
        "      #add path from the actor to the movies that he played in\n",
        "      KG[exec_producers_df.iloc[i][\"execProducerId\"]].append({\"Was Executive Producer For\": exec_producers_df.iloc[i][\"movieId\"]})\n",
        "\n",
        "    for i in range(len(genres_df)):\n",
        "      #add path from the movie to the genres and from genre to movie\n",
        "      KG[genres_df.iloc[i][\"movieId\"]].append({\"is Genre\": genres_df.iloc[i][\"genres\"]})\n",
        "      KG[genres_df.iloc[i][\"genres\"]].append({\"is Genre of Movie\": genres_df.iloc[i][\"movieId\"]})\n",
        "\n",
        "    #add stop items\n",
        "    for item in items:\n",
        "      KG[item].append({\"Stop\": item})\n",
        "\n",
        "    return KG\n",
        "\n",
        "\n",
        "KG = create_knowledge_graph()"
      ],
      "execution_count": null,
      "outputs": []
    },
    {
      "cell_type": "code",
      "metadata": {
        "id": "ul7l0_wAjryO",
        "colab_type": "code",
        "colab": {}
      },
      "source": [
        "with open('/content/drive/My Drive/Gohlke_ExplainableRecommendation/files/Ekar/train_df.pickle', 'wb') as handle:\n",
        "    pickle.dump(train_df, handle, protocol=pickle.HIGHEST_PROTOCOL)\n",
        "\n",
        "with open('/content/drive/My Drive/Gohlke_ExplainableRecommendation/files/Ekar/train_df.pickle', 'wb') as handle:\n",
        "    pickle.dump(train_df, handle, protocol=pickle.HIGHEST_PROTOCOL)\n",
        "\n",
        "with open('/content/drive/My Drive/Gohlke_ExplainableRecommendation/files/Ekar/test_df.pickle', 'wb') as handle:\n",
        "    pickle.dump(test_df, handle, protocol=pickle.HIGHEST_PROTOCOL)\n",
        "\n",
        "with open('/content/drive/My Drive/Gohlke_ExplainableRecommendation/files/Ekar/actors_df.pickle', 'wb') as handle:\n",
        "    pickle.dump(actors_df, handle, protocol=pickle.HIGHEST_PROTOCOL)\n",
        "\n",
        "with open('/content/drive/My Drive/Gohlke_ExplainableRecommendation/files/Ekar/movies.pickle', 'wb') as handle:\n",
        "    pickle.dump(movies, handle, protocol=pickle.HIGHEST_PROTOCOL)\n",
        "\n",
        "with open('/content/drive/My Drive/Gohlke_ExplainableRecommendation/files/Ekar/actors.pickle', 'wb') as handle:\n",
        "    pickle.dump(actors, handle, protocol=pickle.HIGHEST_PROTOCOL)\n",
        "\n",
        "with open('/content/drive/My Drive/Gohlke_ExplainableRecommendation/files/Ekar/users.pickle', 'wb') as handle:\n",
        "    pickle.dump(users, handle, protocol=pickle.HIGHEST_PROTOCOL)\n",
        "\n",
        "with open('/content/drive/My Drive/Gohlke_ExplainableRecommendation/files/Ekar/items.pickle', 'wb') as handle:\n",
        "    pickle.dump(items, handle, protocol=pickle.HIGHEST_PROTOCOL)\n",
        "\n",
        "with open('/content/drive/My Drive/Gohlke_ExplainableRecommendation/files/Ekar/item_encoder.pickle', 'wb') as handle:\n",
        "    pickle.dump(item_encoder, handle, protocol=pickle.HIGHEST_PROTOCOL)\n",
        "\n",
        "with open('/content/drive/My Drive/Gohlke_ExplainableRecommendation/files/Ekar/relations.pickle', 'wb') as handle:\n",
        "    pickle.dump(relations, handle, protocol=pickle.HIGHEST_PROTOCOL)\n",
        "\n",
        "with open('/content/drive/My Drive/Gohlke_ExplainableRecommendation/files/Ekar/relation_encoder.pickle', 'wb') as handle:\n",
        "    pickle.dump(relation_encoder, handle, protocol=pickle.HIGHEST_PROTOCOL)\n",
        "\n",
        "with open('/content/drive/My Drive/Gohlke_ExplainableRecommendation/files/Ekar/KG.pickle', 'wb') as handle:\n",
        "    pickle.dump(KG, handle, protocol=pickle.HIGHEST_PROTOCOL)\n",
        "\n",
        "with open('/content/drive/My Drive/Gohlke_ExplainableRecommendation/files/Ekar/directors_df.pickle', 'wb') as handle:\n",
        "    pickle.dump(directors_df, handle, protocol=pickle.HIGHEST_PROTOCOL)\n",
        "\n",
        "with open('/content/drive/My Drive/Gohlke_ExplainableRecommendation/files/Ekar/directors.pickle', 'wb') as handle:\n",
        "    pickle.dump(directors, handle, protocol=pickle.HIGHEST_PROTOCOL)\n",
        "\n",
        "with open('/content/drive/My Drive/Gohlke_ExplainableRecommendation/files/Ekar/producers_df.pickle', 'wb') as handle:\n",
        "    pickle.dump(producers_df, handle, protocol=pickle.HIGHEST_PROTOCOL)\n",
        "\n",
        "with open('/content/drive/My Drive/Gohlke_ExplainableRecommendation/files/Ekar/producers.pickle', 'wb') as handle:\n",
        "    pickle.dump(producers, handle, protocol=pickle.HIGHEST_PROTOCOL)\n",
        "\n",
        "with open('/content/drive/My Drive/Gohlke_ExplainableRecommendation/files/Ekar/exec_producers_df.pickle', 'wb') as handle:\n",
        "    pickle.dump(exec_producers_df, handle, protocol=pickle.HIGHEST_PROTOCOL)\n",
        "\n",
        "with open('/content/drive/My Drive/Gohlke_ExplainableRecommendation/files/Ekar/exec_producers.pickle', 'wb') as handle:\n",
        "    pickle.dump(exec_producers, handle, protocol=pickle.HIGHEST_PROTOCOL)\n",
        "\n",
        "with open('/content/drive/My Drive/Gohlke_ExplainableRecommendation/files/Ekar/genres_df.pickle', 'wb') as handle:\n",
        "    pickle.dump(genres_df, handle, protocol=pickle.HIGHEST_PROTOCOL)\n",
        "\n",
        "with open('/content/drive/My Drive/Gohlke_ExplainableRecommendation/files/Ekar/genres.pickle', 'wb') as handle:\n",
        "    pickle.dump(genres, handle, protocol=pickle.HIGHEST_PROTOCOL)"
      ],
      "execution_count": null,
      "outputs": []
    },
    {
      "cell_type": "code",
      "metadata": {
        "id": "7gxe04JojuIe",
        "colab_type": "code",
        "colab": {}
      },
      "source": [
        "with open('/content/drive/My Drive/Gohlke_ExplainableRecommendation/files/Ekar/train_df.pickle', 'rb') as handle:\n",
        "    train_df = pickle.load(handle)\n",
        "\n",
        "with open('/content/drive/My Drive/Gohlke_ExplainableRecommendation/files/Ekar/test_df.pickle', 'rb') as handle:\n",
        "    test_df = pickle.load( handle)\n",
        "\n",
        "with open('/content/drive/My Drive/Gohlke_ExplainableRecommendation/files/Ekar/actors_df.pickle', 'rb') as handle:\n",
        "    actors_df = pickle.load(handle)\n",
        "\n",
        "with open('/content/drive/My Drive/Gohlke_ExplainableRecommendation/files/Ekar/movies.pickle', 'rb') as handle:\n",
        "    movies = pickle.load(handle)\n",
        "\n",
        "with open('/content/drive/My Drive/Gohlke_ExplainableRecommendation/files/Ekar/actors.pickle', 'rb') as handle:\n",
        "    actors = pickle.load(handle)\n",
        "\n",
        "with open('/content/drive/My Drive/Gohlke_ExplainableRecommendation/files/Ekar/users.pickle', 'rb') as handle:\n",
        "    users = pickle.load(handle)\n",
        "\n",
        "with open('/content/drive/My Drive/Gohlke_ExplainableRecommendation/files/Ekar/items.pickle', 'rb') as handle:\n",
        "    items = pickle.load(handle)\n",
        "\n",
        "with open('/content/drive/My Drive/Gohlke_ExplainableRecommendation/files/Ekar/relations.pickle', 'rb') as handle:\n",
        "    relations = pickle.load(handle)\n",
        "\n",
        "with open('/content/drive/My Drive/Gohlke_ExplainableRecommendation/files/Ekar/item_encoder.pickle', 'rb') as handle:\n",
        "    item_encoder = pickle.load(handle)\n",
        "\n",
        "with open('/content/drive/My Drive/Gohlke_ExplainableRecommendation/files/Ekar/relation_encoder.pickle', 'rb') as handle:\n",
        "    relation_encoder = pickle.load(handle)\n",
        "\n",
        "with open('/content/drive/My Drive/Gohlke_ExplainableRecommendation/files/Ekar/KG.pickle', 'rb') as handle:\n",
        "    KG = pickle.load(handle)\n",
        "\n",
        "with open('/content/drive/My Drive/Gohlke_ExplainableRecommendation/files/Ekar/directors_df.pickle', 'rb') as handle:\n",
        "    directors_df = pickle.load(handle)\n",
        "\n",
        "with open('/content/drive/My Drive/Gohlke_ExplainableRecommendation/files/Ekar/directors.pickle', 'rb') as handle:\n",
        "    directors = pickle.load(handle)\n",
        "\n",
        "with open('/content/drive/My Drive/Gohlke_ExplainableRecommendation/files/Ekar/producers_df.pickle', 'rb') as handle:\n",
        "    producers_df = pickle.load(handle)\n",
        "\n",
        "with open('/content/drive/My Drive/Gohlke_ExplainableRecommendation/files/Ekar/producers.pickle', 'rb') as handle:\n",
        "    producers = pickle.load(handle)\n",
        "\n",
        "with open('/content/drive/My Drive/Gohlke_ExplainableRecommendation/files/Ekar/exec_producers_df.pickle', 'rb') as handle:\n",
        "    exec_producers_df = pickle.load(handle)\n",
        "\n",
        "with open('/content/drive/My Drive/Gohlke_ExplainableRecommendation/files/Ekar/exec_producers.pickle', 'rb') as handle:\n",
        "    exec_producers = pickle.load(handle)\n",
        "\n",
        "with open('/content/drive/My Drive/Gohlke_ExplainableRecommendation/files/Ekar/genres_df.pickle', 'rb') as handle:\n",
        "    genres_df = pickle.load(handle)\n",
        "\n",
        "with open('/content/drive/My Drive/Gohlke_ExplainableRecommendation/files/Ekar/genres.pickle', 'rb') as handle:\n",
        "    genres = pickle.load(handle)"
      ],
      "execution_count": null,
      "outputs": []
    },
    {
      "cell_type": "code",
      "metadata": {
        "id": "v7OPWYb3jzn_",
        "colab_type": "code",
        "colab": {}
      },
      "source": [
        "def sigmoid(x):\n",
        "  return 1 / (1 + math.exp(-x))\n",
        "\n",
        "def similarity(user, movie):\n",
        "  #simil between itemi and itemj in KG-embedded graph\n",
        "  #return sigmoid of sim\n",
        "  uVals = np.load(\"/content/drive/My Drive/Gohlke_ExplainableRecommendation/files/Ekar/BPR-model/userVals.npy\")\n",
        "  iVals = np.load(\"/content/drive/My Drive/Gohlke_ExplainableRecommendation/files/Ekar/BPR-model/iVals.npy\")\n",
        "  jVals = np.load(\"/content/drive/My Drive/Gohlke_ExplainableRecommendation/files/Ekar/BPR-model/jVals.npy\")\n",
        "\n",
        "  u = user.split(\"user\")\n",
        "  m = movie.split(\"movie\")\n",
        "\n",
        "  userId = int(u[1])\n",
        "  movieId = int(m[1])\n",
        "\n",
        "  userVals = uVals[userId, :]\n",
        "  # movieVals = iVals[:, movieId]\n",
        "  s = np.dot(userVals, iVals)\n",
        "  #how similar compared to the mean\n",
        "  simil = s[movieId] - np.mean(s)\n",
        "  return sigmoid(simil) "
      ],
      "execution_count": null,
      "outputs": []
    },
    {
      "cell_type": "code",
      "metadata": {
        "id": "ACLLOmcQj2fM",
        "colab_type": "code",
        "colab": {}
      },
      "source": [
        "class EKAR():\n",
        "    def __init__(self, path_length = 3, train_df=train_df, test_df=test_df, movies=movies, users = users, items = items,\n",
        "                 relations = relations, item_encoder = item_encoder, relation_encoder = relation_encoder, KG = KG,\n",
        "                 lstm_out_size = 10, W_size = 10, lr = 0.1, action_dropout = 0.1):\n",
        "      \n",
        "        tf.compat.v1.reset_default_graph()\n",
        "        self.train_df = train_df\n",
        "        self.test_df = test_df\n",
        "        self.action_dropout = action_dropout\n",
        "\n",
        "        self.movies = movies\n",
        "        self.users = users\n",
        "        self.path_length = path_length\n",
        "\n",
        "        self.item_encoder, self.items = item_encoder, items\n",
        "        self.relation_encoder, self.relations = relation_encoder, relations\n",
        "\n",
        "        self.KG = KG\n",
        "        self.lstm_out_size = lstm_out_size\n",
        "        self.model = self.create_model(lstm_out_size, W_size, lr)\n",
        "        self.path0 = np.zeros( (len(self.relations)+len(self.items)) )\n",
        "\n",
        "    def create_model(self, lstm_out_size, W_size, lr):\n",
        "      encoded_dims = (1,lstm_out_size)\n",
        "      timesteps = self.path_length + 1\n",
        "      features = len(self.relations)+len(self.items)\n",
        "\n",
        "      inputs1 = tf.keras.layers.Input(shape=(timesteps, features))\n",
        "      lstm1 = tf.keras.layers.LSTM(lstm_out_size)(inputs1)\n",
        "\n",
        "      dense = tf.keras.layers.Dense(W_size, input_dim = lstm_out_size, activation=\"relu\", kernel_regularizer='l1')(lstm1)\n",
        "      out = tf.keras.layers.Dense(1, kernel_regularizer='l1')(dense)\n",
        "\n",
        "      model = tf.keras.Model(inputs=inputs1, outputs=out)\n",
        "      opt = tf.keras.optimizers.Adam(learning_rate=lr)\n",
        "      model.compile(loss='mse', optimizer=opt)\n",
        "      return model\n",
        "\n",
        "    def encode(self, action):\n",
        "      relation = list(action.keys())[0]\n",
        "      item = list(action.values())[0]\n",
        "\n",
        "      enc_relation = ekar.relation_encoder.transform( np.array(relation).reshape(1, -1) ).reshape(-1,1)\n",
        "      enc_item = ekar.item_encoder.transform( np.array(item).reshape(1, -1) ).reshape(-1,1)\n",
        "\n",
        "      inp = np.array([np.concatenate((enc_relation, enc_item))]).reshape(-1)\n",
        "      return inp\n",
        "\n",
        "    def predict(self, paths):\n",
        "      inp = np.zeros( (paths.shape[0], self.path_length + 1, len(self.relations)+len(self.items) ) )\n",
        "\n",
        "      for i in range(paths.shape[0]):\n",
        "          inp[i][0] = np.array(self.path0)\n",
        "          for j in range(self.path_length, -1, -1):\n",
        "            if(paths.shape[1] > j-1):\n",
        "              inp[i][j] = self.encode(paths[i][j-1])\n",
        "            else:\n",
        "              inp[i][j] = self.path0\n",
        "\n",
        "      value = self.model.predict(inp)\n",
        "      return value\n",
        "\n",
        "    def reward(self, path):\n",
        "        \"\"\"Return a numeric reward for this state.\"\"\"\n",
        "        #if currently on user, return -1\n",
        "        initItem = list(path[0].values())[0]\n",
        "        targetItem = list(path[-1].values())[0]\n",
        "\n",
        "        if(targetItem in self.movies):\n",
        "          if {\"Interact\": targetItem} in self.KG[initItem]:\n",
        "            return 1\n",
        "          else:\n",
        "            return similarity(initItem, targetItem)\n",
        "        else:\n",
        "          return -1\n",
        " \n",
        "    def actions_proba(self, path, dropout = 0.2):\n",
        "      last_action = path[-1]\n",
        "      current_item = list(last_action.values())[0] #last value in path is current item  \n",
        "      pos_actions = self.actions(current_item, dropout)\n",
        "\n",
        "      divisor = 0\n",
        "      pos_paths = []\n",
        "      for a in pos_actions:\n",
        "        p = np.append(path, a)\n",
        "        pos_paths.append(p)\n",
        "\n",
        "      pos_paths = np.array(pos_paths)\n",
        "      values = np.exp(self.predict(pos_paths))\n",
        "      divisor = np.sum(values)\n",
        "      return values/divisor, np.array(pos_actions)\n",
        "\n",
        "    def actions(self, item, dropout = 0.1):\n",
        "      #return possible actions that can be taken from item\n",
        "      sample_amount = math.ceil( len(self.KG[item])*(1- dropout) )\n",
        "      \n",
        "      actions = random.choices(self.KG[item], k = sample_amount)\n",
        "      return actions\n",
        "\n",
        "    def train(self, epochs = 100, gamma = 0.95, eps=0.5, decay_factor = 0.999, batch_size = 32):\n",
        "        r_avg_list = []\n",
        "        loss = []\n",
        "        batch_size = batch_size\n",
        "        runs_per_epoch = 1\n",
        "\n",
        "        for e in range(epochs):\n",
        "            start = time.time()\n",
        "            eps *= decay_factor\n",
        "\n",
        "            r_sum = 0\n",
        "            loss_sum = 0            \n",
        "            for r in range(runs_per_epoch):\n",
        "                X = []\n",
        "                y = []\n",
        "                for i in range(batch_size):\n",
        "                    item = np.random.choice(list(self.users.keys()))\n",
        "                    relation = \"mock\"\n",
        "                    path = [{relation: item}]\n",
        "                    for i in range(self.path_length):\n",
        "                        if np.random.random() < eps:\n",
        "                          pos_actions = self.actions(item)\n",
        "                          actionTaken = random.choice(pos_actions)\n",
        "                        else:\n",
        "                          p, actions = self.actions_proba(path)\n",
        "                          actionTaken = random.choices(actions, weights=p)[0]\n",
        "\n",
        "                        relation =  list(actionTaken.keys())[0]\n",
        "                        item = list(actionTaken.values())[0]\n",
        "                        path = np.append(path, {relation: item})\n",
        "\n",
        "                    reward = self.reward(path)\n",
        "                    r_sum = r_sum + reward\n",
        "                    y.append(reward)\n",
        "\n",
        "                    inp = np.zeros( (1, self.path_length + 1, len(self.relations)+len(self.items) ) )\n",
        "                    inp[0][0] = np.array(self.path0)\n",
        "                    for i in range(self.path_length, -1, -1):\n",
        "                      if(len(path) > i-1):\n",
        "                        inp[0][i] = self.encode(path[i-1])\n",
        "                      else:\n",
        "                        inp[0][i] = self.path0\n",
        "\n",
        "                    X.append(inp)\n",
        "\n",
        "                X = np.array(X).reshape(-1, self.path_length + 1, len(self.relations)+len(self.items))\n",
        "                y = np.array(y).reshape(-1,1)\n",
        "\n",
        "                history = self.model.fit(X, y, batch_size = batch_size, verbose=0)\n",
        "                loss_sum = loss_sum + history.history['loss'][0]\n",
        "                \n",
        "            r_avg_list.append(r_sum/(batch_size*runs_per_epoch))\n",
        "            loss.append(loss_sum/runs_per_epoch)\n",
        "            end = time.time() #85-135 for 32 batch on TPS\n",
        "            print(\"Epoch {} of {}: reward is {}, loss is {}, time taken for epoch: {}\".format(e, epochs-1, r_sum/(batch_size*runs_per_epoch), loss_sum/runs_per_epoch, end-start))\n",
        "        \n",
        "        return r_avg_list, loss\n",
        "\n",
        "\n",
        "    def recommend(self, user, beam_size = 1, recomAmount = 10, eps = 0):\n",
        "        initItem = np.random.choice(list(self.users.keys()))\n",
        "        mockRelation = \"mock\"\n",
        "        state = {mockRelation: initItem}\n",
        "        nodes = defaultdict(list)\n",
        "        nodes[0] = [[state]]\n",
        "        for i in range(self.path_length):\n",
        "            for node in nodes[i]:\n",
        "                last_action = node[-1]\n",
        "                relation = list(last_action.keys())[0]\n",
        "                item = list(last_action.values())[0]\n",
        "                if np.random.random() < eps:\n",
        "                  pos_actions = self.actions(item)\n",
        "                  actionTaken = random.sample(pos_actions, min(beam_size, len(pos_actions)))\n",
        "                else:\n",
        "                  p, actions = self.actions_proba([a for a in node])\n",
        "                  actionTaken = random.choices(actions, weights=p, k= min(beam_size, len(actions)) )\n",
        "\n",
        "                for action in actionTaken:\n",
        "                    path = [a for a in node]\n",
        "                    path.append(action)\n",
        "                    nodes[i+1].append(path)\n",
        "\n",
        "        paths = np.array(nodes[self.path_length])\n",
        "        pred = self.predict(paths)\n",
        "        pred = pred.reshape(-1)\n",
        "\n",
        "        args = np.argsort(pred)[::-1]\n",
        "        recom = []\n",
        "        i = 0\n",
        "\n",
        "        user_rated = list(KG[user][0].values())\n",
        "\n",
        "        while(len(recom)<10 and i<len(args)):\n",
        "          #only recommend movies the user hasn't rated yet\n",
        "          c_path = paths[args[i]]\n",
        "          last_action = c_path[self.path_length]\n",
        "          \n",
        "          movie = list(last_action.values())[0]\n",
        "          if(movie not in user_rated and movie not in recom):\n",
        "              recom.append(movie)\n",
        "          i = i+1\n",
        "        return recom\n",
        "\n",
        "    def recommend_details(self, user, beam_size = 1, recomAmount = 10, eps = 0):\n",
        "        initItem = np.random.choice(list(self.users.keys()))\n",
        "        mockRelation = \"mock\"\n",
        "        state = {mockRelation: initItem}\n",
        "        nodes = defaultdict(list)\n",
        "        nodes[0] = [[state]]\n",
        "        for i in range(self.path_length):\n",
        "            for node in nodes[i]:\n",
        "                last_action = node[-1]\n",
        "                relation = list(last_action.keys())[0]\n",
        "                item = list(last_action.values())[0]\n",
        "                if np.random.random() < eps:\n",
        "                    pos_actions = self.actions(item)\n",
        "                    actionTaken = random.sample(pos_actions, min(beam_size, len(pos_actions)))\n",
        "                else:\n",
        "                    p, actions = self.actions_proba([a for a in node])\n",
        "                    actionTaken = random.choices(actions, weights=p, k= min(beam_size, len(actions)) )\n",
        "\n",
        "                for action in actionTaken:\n",
        "                    path = [a for a in node]\n",
        "                    path.append(action)\n",
        "                    nodes[i+1].append(path)\n",
        "\n",
        "        paths = np.array(nodes[self.path_length])\n",
        "        pred = self.predict(paths)\n",
        "        pred = pred.reshape(-1)\n",
        "\n",
        "        args = np.argsort(pred)[::-1]\n",
        "        recom = []\n",
        "        i = 0\n",
        "\n",
        "        user_rated = list(KG[user][0].values())\n",
        "\n",
        "        while(len(recom)<10 and i<len(args)):\n",
        "            #only recommend movies the user hasn't rated yet\n",
        "            c_path = paths[args[i]]\n",
        "            last_action = c_path[self.path_length]\n",
        "            \n",
        "            movie = list(last_action.values())[0]\n",
        "            if(movie not in user_rated and movie not in recom):\n",
        "                recom.append(movie)\n",
        "            i = i+1\n",
        "\n",
        "        print(\"paths explored are\", paths)    \n",
        "        print(\"predicted rewards for paths is\", pred)\n",
        "        print(\"recommended movies are\", recom)\n",
        "        return recom\n",
        "\n",
        "    def evaluateHR_NDCG(self, runs = 100, beam_size = 3, recomAmount = 10):\n",
        "        hit_count = 0\n",
        "        total_count = 0\n",
        "        attempt_count = 0\n",
        "        ndcg = np.zeros(runs)\n",
        "        for j in range(runs):\n",
        "            print(j)\n",
        "            user = np.random.choice(list(self.users.keys()))\n",
        "            top_predictions = self.recommend(user, beam_size, recomAmount)\n",
        "            \n",
        "            user_movies = self.test_df[(self.test_df['userId'] == user)]['movieId'].values\n",
        "\n",
        "            y_pred = np.asarray([[0 for i in range(recomAmount)]])\n",
        "            y_true = np.asarray([[1 for i in range(recomAmount)]])\n",
        "\n",
        "            for i in range(len(top_predictions)):\n",
        "                if top_predictions[i] in user_movies:\n",
        "                    y_pred[0][i] = 1\n",
        "                    hit_count = hit_count + 1\n",
        "                attempt_count = attempt_count + 1\n",
        "\n",
        "            total_count = total_count + len(user_movies)\n",
        "\n",
        "            ndcg[j] = ndcg_score(y_pred, y_true)\n",
        "          \n",
        "        print(\"Hit Ratio is: {}, NDCG score is: {}, Hit/Attempt Ratio: {}\".format(hit_count/total_count, np.mean(ndcg), hit_count/attempt_count) )\n",
        "        return hit_count/total_count, np.mean(ndcg), hit_count/attempt_count\n",
        "        \n",
        "    def load(self,model_name, suffix):\n",
        "      self.model = tf.keras.models.load_model(\"/content/drive/My Drive/Gohlke_ExplainableRecommendation/files/Ekar/models/{}-{}\".format(model_name, suffix))\n",
        "\n",
        "    def save(self,model_name, suffix):\n",
        "      self.model.save( \"/content/drive/My Drive/Gohlke_ExplainableRecommendation/files/Ekar/models/{}-{}\".format(model_name, suffix))\n",
        "\n",
        "    def plot_history(self):\n",
        "      rewards = np.load(\"/content/drive/My Drive/Gohlke_ExplainableRecommendation/files/Ekar/rewards.npy\")\n",
        "      losses = np.load(\"/content/drive/My Drive/Gohlke_ExplainableRecommendation/files/Ekar/losses.npy\")\n",
        "      \n",
        "      epochs = [i for i in range(0, len(losses))]\n",
        "      plt.plot(epochs, rewards, 'r--')\n",
        "      plt.plot(epochs, losses, 'b-')\n",
        "      plt.legend(['Avg reward','Training Loss'])\n",
        "      plt.xlabel('Epoch')\n",
        "      plt.savefig('/content/drive/My Drive/Gohlke_ExplainableRecommendation/files/Ekar/plots/loss_history.png')\n",
        "      plt.show()\n",
        "      plt.clf()\n",
        "\n",
        "lstm_out_size = 10\n",
        "W_size = 100\n",
        "lr = 0.01\n",
        "path_length = 3\n",
        "action_dropout = 0.2\n",
        "\n",
        "ekar = EKAR(lstm_out_size = lstm_out_size, W_size = W_size, lr = lr, path_length = path_length, action_dropout = action_dropout)\n",
        "tf.keras.models.load_model(\"/content/drive/My Drive/Gohlke_ExplainableRecommendation/files/Ekar/models/first_learning2\")"
      ],
      "execution_count": null,
      "outputs": []
    },
    {
      "cell_type": "code",
      "metadata": {
        "id": "46WJY1bNj4dh",
        "colab_type": "code",
        "colab": {}
      },
      "source": [
        "r, l = ekar.train(epochs = 10, gamma = 0.8, eps=0.2, decay_factor = 0.999, batch_size = 1)\n",
        "# ekar.model.save(\"/content/drive/My Drive/Gohlke_ExplainableRecommendation/files/Ekar/models/first_learning2\")"
      ],
      "execution_count": null,
      "outputs": []
    },
    {
      "cell_type": "code",
      "metadata": {
        "id": "bwHsMQEhj6qF",
        "colab_type": "code",
        "colab": {}
      },
      "source": [
        "item = ekar.recommend_details('user10', beam_size = 3, recomAmount = 10, eps = 0) #beam_size must be min 3 or else no 10 recommendations possible (for path length of 3)"
      ],
      "execution_count": null,
      "outputs": []
    },
    {
      "cell_type": "code",
      "metadata": {
        "id": "rlxtF-G_j9kI",
        "colab_type": "code",
        "colab": {}
      },
      "source": [
        "#take current results and past results to get a bigger sample size for more reliable results\n",
        "\n",
        "HR_scores = np.load(\"/content/drive/My Drive/Gohlke_ExplainableRecommendation/files/Ekar/hr.npy\")\n",
        "NDCG_scores = np.load(\"/content/drive/My Drive/Gohlke_ExplainableRecommendation/files/Ekar/ndcg.npy\")\n",
        "AR_scores = np.load(\"/content/drive/My Drive/Gohlke_ExplainableRecommendation/files/Ekar/ar.npy\")\n",
        "total_runs = np.load(\"/content/drive/My Drive/Gohlke_ExplainableRecommendation/files/Ekar/runs.npy\")\n",
        "\n",
        "new_hr = (hr*runs + HR_scores*total_runs)/(total_runs+runs)\n",
        "new_ndcg = (ndcg*runs + NDCG_scores*total_runs)/(total_runs+runs)\n",
        "new_ar = (ar*runs + AR_scores*total_runs)/(total_runs+runs)\n",
        "\n",
        "total_runs = total_runs + runs\n",
        "print(\"new total HR: {}, new total NDCG: {}, new total AR:{}\".format(new_hr, new_ndcg, new_ar))\n",
        "print(\"total runs is now\", total_runs)\n",
        "np.save(\"/content/drive/My Drive/Gohlke_ExplainableRecommendation/files/Ekar/hr.npy\", new_hr)\n",
        "np.save(\"/content/drive/My Drive/Gohlke_ExplainableRecommendation/files/Ekar/ndcg.npy\", new_ndcg)\n",
        "np.save(\"/content/drive/My Drive/Gohlke_ExplainableRecommendation/files/Ekar/ar.npy\", new_ar)\n",
        "np.save(\"/content/drive/My Drive/Gohlke_ExplainableRecommendation/files/Ekar/runs.npy\", total_runs)"
      ],
      "execution_count": null,
      "outputs": []
    },
    {
      "cell_type": "markdown",
      "metadata": {
        "id": "9l8x2csbJ9RM",
        "colab_type": "text"
      },
      "source": [
        "## V) References\n",
        "\n",
        "\n",
        "[1] Yongfeng Zhang and Xu Chen\\\n",
        "Explainable recommendation: A survey and new perspectives\\\n",
        "https://arxiv.org/pdf/1906.09506v1.pdf\n",
        "\n",
        "[2] Badrul Sarwar, George Karypis, Joseph Konstan, and John Riedl\\\n",
        "Item-based Collaborative Filtering Recommendation\\\n",
        "http://files.grouplens.org/papers/www10_sarwar.pdf\n",
        "\n",
        "[3] Steffen Rendle, Christoph Freudenthaler, Zeno Gantner and Lars Schmidt-Thieme\\\n",
        "BPR: Bayesian Personalized Ranking from Implicit Feedback\\\n",
        "https://arxiv.org/ftp/arxiv/papers/1205/1205.2618.pdf\n",
        "\n",
        "[4] Weiping Song, Zhijian Duan, Ziqing Yang, Hao Zhu, Ming Zhang, Jian Tang\\\n",
        "Explainable Knowledge Graph-based Recommendation via Deep Reinforcement Learning\\\n",
        "https://arxiv.org/pdf/1906.09506v1.pdf"
      ]
    }
  ]
}